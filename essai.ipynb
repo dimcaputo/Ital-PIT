{
 "cells": [
  {
   "cell_type": "code",
   "execution_count": 1,
   "metadata": {},
   "outputs": [
    {
     "name": "stderr",
     "output_type": "stream",
     "text": [
      "2025-04-02 10:15:12.328401: I tensorflow/core/platform/cpu_feature_guard.cc:210] This TensorFlow binary is optimized to use available CPU instructions in performance-critical operations.\n",
      "To enable the following instructions: SSE4.1 SSE4.2 AVX, in other operations, rebuild TensorFlow with the appropriate compiler flags.\n"
     ]
    }
   ],
   "source": [
    "from sklearn.model_selection import train_test_split\n",
    "from sklearn.metrics import accuracy_score, f1_score, classification_report\n",
    "from sklearn.preprocessing import StandardScaler\n",
    "import tensorflow as tf\n",
    "from keras.layers import Input, Dense, Dropout, BatchNormalization\n",
    "from keras.models import Sequential\n",
    "from keras.callbacks import EarlyStopping\n",
    "from keras.metrics import F1Score\n",
    "import pandas as pd\n",
    "import numpy as np\n",
    "import matplotlib.pyplot as plt\n",
    "\n"
   ]
  },
  {
   "cell_type": "code",
   "execution_count": 2,
   "metadata": {},
   "outputs": [
    {
     "data": {
      "text/html": [
       "<div>\n",
       "<style scoped>\n",
       "    .dataframe tbody tr th:only-of-type {\n",
       "        vertical-align: middle;\n",
       "    }\n",
       "\n",
       "    .dataframe tbody tr th {\n",
       "        vertical-align: top;\n",
       "    }\n",
       "\n",
       "    .dataframe thead th {\n",
       "        text-align: right;\n",
       "    }\n",
       "</style>\n",
       "<table border=\"1\" class=\"dataframe\">\n",
       "  <thead>\n",
       "    <tr style=\"text-align: right;\">\n",
       "      <th></th>\n",
       "      <th>x_nose</th>\n",
       "      <th>y_nose</th>\n",
       "      <th>z_nose</th>\n",
       "      <th>x_left_eye_inner</th>\n",
       "      <th>y_left_eye_inner</th>\n",
       "      <th>z_left_eye_inner</th>\n",
       "      <th>x_left_eye</th>\n",
       "      <th>y_left_eye</th>\n",
       "      <th>z_left_eye</th>\n",
       "      <th>x_left_eye_outer</th>\n",
       "      <th>...</th>\n",
       "      <th>z_left_heel</th>\n",
       "      <th>x_right_heel</th>\n",
       "      <th>y_right_heel</th>\n",
       "      <th>z_right_heel</th>\n",
       "      <th>x_left_foot_index</th>\n",
       "      <th>y_left_foot_index</th>\n",
       "      <th>z_left_foot_index</th>\n",
       "      <th>x_right_foot_index</th>\n",
       "      <th>y_right_foot_index</th>\n",
       "      <th>z_right_foot_index</th>\n",
       "    </tr>\n",
       "    <tr>\n",
       "      <th>pose_id</th>\n",
       "      <th></th>\n",
       "      <th></th>\n",
       "      <th></th>\n",
       "      <th></th>\n",
       "      <th></th>\n",
       "      <th></th>\n",
       "      <th></th>\n",
       "      <th></th>\n",
       "      <th></th>\n",
       "      <th></th>\n",
       "      <th></th>\n",
       "      <th></th>\n",
       "      <th></th>\n",
       "      <th></th>\n",
       "      <th></th>\n",
       "      <th></th>\n",
       "      <th></th>\n",
       "      <th></th>\n",
       "      <th></th>\n",
       "      <th></th>\n",
       "      <th></th>\n",
       "    </tr>\n",
       "  </thead>\n",
       "  <tbody>\n",
       "    <tr>\n",
       "      <th>0</th>\n",
       "      <td>-5.889507</td>\n",
       "      <td>-57.637520</td>\n",
       "      <td>-45.019750</td>\n",
       "      <td>-4.656085</td>\n",
       "      <td>-62.832863</td>\n",
       "      <td>-44.571823</td>\n",
       "      <td>-3.302626</td>\n",
       "      <td>-63.386856</td>\n",
       "      <td>-44.567863</td>\n",
       "      <td>-2.032406</td>\n",
       "      <td>...</td>\n",
       "      <td>56.852562</td>\n",
       "      <td>-0.842025</td>\n",
       "      <td>35.037060</td>\n",
       "      <td>50.565020</td>\n",
       "      <td>5.842190</td>\n",
       "      <td>45.971020</td>\n",
       "      <td>50.263714</td>\n",
       "      <td>0.092779</td>\n",
       "      <td>45.842150</td>\n",
       "      <td>41.427795</td>\n",
       "    </tr>\n",
       "    <tr>\n",
       "      <th>1</th>\n",
       "      <td>-4.255504</td>\n",
       "      <td>-62.935925</td>\n",
       "      <td>-128.907500</td>\n",
       "      <td>-2.977403</td>\n",
       "      <td>-67.035990</td>\n",
       "      <td>-124.258545</td>\n",
       "      <td>-2.215265</td>\n",
       "      <td>-67.198250</td>\n",
       "      <td>-124.263240</td>\n",
       "      <td>-1.494903</td>\n",
       "      <td>...</td>\n",
       "      <td>-14.129170</td>\n",
       "      <td>-1.298891</td>\n",
       "      <td>54.733307</td>\n",
       "      <td>-6.886051</td>\n",
       "      <td>3.980098</td>\n",
       "      <td>65.370830</td>\n",
       "      <td>-49.023930</td>\n",
       "      <td>-5.090634</td>\n",
       "      <td>65.641780</td>\n",
       "      <td>-42.878056</td>\n",
       "    </tr>\n",
       "    <tr>\n",
       "      <th>2</th>\n",
       "      <td>-2.878917</td>\n",
       "      <td>-61.709988</td>\n",
       "      <td>-137.453340</td>\n",
       "      <td>-1.619050</td>\n",
       "      <td>-65.693750</td>\n",
       "      <td>-132.181660</td>\n",
       "      <td>-0.785822</td>\n",
       "      <td>-65.814340</td>\n",
       "      <td>-132.184070</td>\n",
       "      <td>-0.019743</td>\n",
       "      <td>...</td>\n",
       "      <td>-19.904400</td>\n",
       "      <td>-2.119770</td>\n",
       "      <td>51.265694</td>\n",
       "      <td>-15.554097</td>\n",
       "      <td>1.994894</td>\n",
       "      <td>62.725025</td>\n",
       "      <td>-57.717957</td>\n",
       "      <td>-4.452602</td>\n",
       "      <td>62.494457</td>\n",
       "      <td>-53.804527</td>\n",
       "    </tr>\n",
       "    <tr>\n",
       "      <th>3</th>\n",
       "      <td>-4.242575</td>\n",
       "      <td>-60.371220</td>\n",
       "      <td>-135.094830</td>\n",
       "      <td>-3.118133</td>\n",
       "      <td>-64.416000</td>\n",
       "      <td>-129.995930</td>\n",
       "      <td>-2.369744</td>\n",
       "      <td>-64.603290</td>\n",
       "      <td>-130.003400</td>\n",
       "      <td>-1.753780</td>\n",
       "      <td>...</td>\n",
       "      <td>-6.855729</td>\n",
       "      <td>-1.485475</td>\n",
       "      <td>59.729427</td>\n",
       "      <td>1.433403</td>\n",
       "      <td>1.950102</td>\n",
       "      <td>68.187256</td>\n",
       "      <td>-42.989098</td>\n",
       "      <td>-4.573338</td>\n",
       "      <td>68.144350</td>\n",
       "      <td>-34.117043</td>\n",
       "    </tr>\n",
       "    <tr>\n",
       "      <th>4</th>\n",
       "      <td>-0.805543</td>\n",
       "      <td>-56.178570</td>\n",
       "      <td>-41.124413</td>\n",
       "      <td>-0.055174</td>\n",
       "      <td>-58.501305</td>\n",
       "      <td>-37.938560</td>\n",
       "      <td>0.456936</td>\n",
       "      <td>-58.473960</td>\n",
       "      <td>-37.954430</td>\n",
       "      <td>0.969290</td>\n",
       "      <td>...</td>\n",
       "      <td>47.124107</td>\n",
       "      <td>-2.455719</td>\n",
       "      <td>52.861732</td>\n",
       "      <td>45.936783</td>\n",
       "      <td>2.699764</td>\n",
       "      <td>57.254112</td>\n",
       "      <td>27.531416</td>\n",
       "      <td>-2.288348</td>\n",
       "      <td>57.803005</td>\n",
       "      <td>26.288315</td>\n",
       "    </tr>\n",
       "  </tbody>\n",
       "</table>\n",
       "<p>5 rows × 99 columns</p>\n",
       "</div>"
      ],
      "text/plain": [
       "           x_nose     y_nose      z_nose  x_left_eye_inner  y_left_eye_inner  \\\n",
       "pose_id                                                                        \n",
       "0       -5.889507 -57.637520  -45.019750         -4.656085        -62.832863   \n",
       "1       -4.255504 -62.935925 -128.907500         -2.977403        -67.035990   \n",
       "2       -2.878917 -61.709988 -137.453340         -1.619050        -65.693750   \n",
       "3       -4.242575 -60.371220 -135.094830         -3.118133        -64.416000   \n",
       "4       -0.805543 -56.178570  -41.124413         -0.055174        -58.501305   \n",
       "\n",
       "         z_left_eye_inner  x_left_eye  y_left_eye  z_left_eye  \\\n",
       "pose_id                                                         \n",
       "0              -44.571823   -3.302626  -63.386856  -44.567863   \n",
       "1             -124.258545   -2.215265  -67.198250 -124.263240   \n",
       "2             -132.181660   -0.785822  -65.814340 -132.184070   \n",
       "3             -129.995930   -2.369744  -64.603290 -130.003400   \n",
       "4              -37.938560    0.456936  -58.473960  -37.954430   \n",
       "\n",
       "         x_left_eye_outer  ...  z_left_heel  x_right_heel  y_right_heel  \\\n",
       "pose_id                    ...                                            \n",
       "0               -2.032406  ...    56.852562     -0.842025     35.037060   \n",
       "1               -1.494903  ...   -14.129170     -1.298891     54.733307   \n",
       "2               -0.019743  ...   -19.904400     -2.119770     51.265694   \n",
       "3               -1.753780  ...    -6.855729     -1.485475     59.729427   \n",
       "4                0.969290  ...    47.124107     -2.455719     52.861732   \n",
       "\n",
       "         z_right_heel  x_left_foot_index  y_left_foot_index  \\\n",
       "pose_id                                                       \n",
       "0           50.565020           5.842190          45.971020   \n",
       "1           -6.886051           3.980098          65.370830   \n",
       "2          -15.554097           1.994894          62.725025   \n",
       "3            1.433403           1.950102          68.187256   \n",
       "4           45.936783           2.699764          57.254112   \n",
       "\n",
       "         z_left_foot_index  x_right_foot_index  y_right_foot_index  \\\n",
       "pose_id                                                              \n",
       "0                50.263714            0.092779           45.842150   \n",
       "1               -49.023930           -5.090634           65.641780   \n",
       "2               -57.717957           -4.452602           62.494457   \n",
       "3               -42.989098           -4.573338           68.144350   \n",
       "4                27.531416           -2.288348           57.803005   \n",
       "\n",
       "         z_right_foot_index  \n",
       "pose_id                      \n",
       "0                 41.427795  \n",
       "1                -42.878056  \n",
       "2                -53.804527  \n",
       "3                -34.117043  \n",
       "4                 26.288315  \n",
       "\n",
       "[5 rows x 99 columns]"
      ]
     },
     "execution_count": 2,
     "metadata": {},
     "output_type": "execute_result"
    }
   ],
   "source": [
    "df_features = pd.read_csv(filepath_or_buffer='training_data/landmarks.csv',\n",
    "                 index_col='pose_id')\n",
    "\n",
    "df_features.head()"
   ]
  },
  {
   "cell_type": "code",
   "execution_count": 3,
   "metadata": {},
   "outputs": [
    {
     "data": {
      "text/html": [
       "<div>\n",
       "<style scoped>\n",
       "    .dataframe tbody tr th:only-of-type {\n",
       "        vertical-align: middle;\n",
       "    }\n",
       "\n",
       "    .dataframe tbody tr th {\n",
       "        vertical-align: top;\n",
       "    }\n",
       "\n",
       "    .dataframe thead th {\n",
       "        text-align: right;\n",
       "    }\n",
       "</style>\n",
       "<table border=\"1\" class=\"dataframe\">\n",
       "  <thead>\n",
       "    <tr style=\"text-align: right;\">\n",
       "      <th></th>\n",
       "      <th>pose</th>\n",
       "    </tr>\n",
       "    <tr>\n",
       "      <th>pose_id</th>\n",
       "      <th></th>\n",
       "    </tr>\n",
       "  </thead>\n",
       "  <tbody>\n",
       "    <tr>\n",
       "      <th>0</th>\n",
       "      <td>jumping_jacks_down</td>\n",
       "    </tr>\n",
       "    <tr>\n",
       "      <th>1</th>\n",
       "      <td>jumping_jacks_down</td>\n",
       "    </tr>\n",
       "    <tr>\n",
       "      <th>2</th>\n",
       "      <td>jumping_jacks_down</td>\n",
       "    </tr>\n",
       "    <tr>\n",
       "      <th>3</th>\n",
       "      <td>jumping_jacks_down</td>\n",
       "    </tr>\n",
       "    <tr>\n",
       "      <th>4</th>\n",
       "      <td>jumping_jacks_down</td>\n",
       "    </tr>\n",
       "  </tbody>\n",
       "</table>\n",
       "</div>"
      ],
      "text/plain": [
       "                       pose\n",
       "pose_id                    \n",
       "0        jumping_jacks_down\n",
       "1        jumping_jacks_down\n",
       "2        jumping_jacks_down\n",
       "3        jumping_jacks_down\n",
       "4        jumping_jacks_down"
      ]
     },
     "execution_count": 3,
     "metadata": {},
     "output_type": "execute_result"
    }
   ],
   "source": [
    "df_labels = pd.read_csv(filepath_or_buffer='training_data/labels.csv',\n",
    "                        index_col='pose_id')\n",
    "df_labels.head()"
   ]
  },
  {
   "cell_type": "code",
   "execution_count": 4,
   "metadata": {},
   "outputs": [],
   "source": [
    "X = df_features.values\n",
    "y = pd.get_dummies(df_labels, dtype=int).values"
   ]
  },
  {
   "cell_type": "code",
   "execution_count": 5,
   "metadata": {},
   "outputs": [],
   "source": [
    "X_train, X_test, y_train, y_test = train_test_split(X, y, random_state=38, stratify=y)"
   ]
  },
  {
   "cell_type": "code",
   "execution_count": 6,
   "metadata": {},
   "outputs": [],
   "source": [
    "scaler = StandardScaler()\n",
    "X_train = scaler.fit_transform(X_train)\n",
    "X_test = scaler.transform(X_test)"
   ]
  },
  {
   "cell_type": "code",
   "execution_count": 7,
   "metadata": {},
   "outputs": [
    {
     "data": {
      "text/plain": [
       "numpy.ndarray"
      ]
     },
     "execution_count": 7,
     "metadata": {},
     "output_type": "execute_result"
    }
   ],
   "source": [
    "type(X_train)"
   ]
  },
  {
   "cell_type": "code",
   "execution_count": null,
   "metadata": {},
   "outputs": [],
   "source": []
  },
  {
   "cell_type": "code",
   "execution_count": 8,
   "metadata": {},
   "outputs": [],
   "source": [
    "def get_model(input_size, filters=8, dropout1=0.2, dropout2=0.2, classes=10):\n",
    "    model = Sequential([\n",
    "        Input(shape=(input_size,)),\n",
    "        Dense(filters, activation='relu'),\n",
    "        Dense(filters, activation='relu'),\n",
    "        Dense(filters, activation='relu'),\n",
    "        Dense(filters, activation='relu'),\n",
    "        BatchNormalization(),\n",
    "        Dropout(dropout1),\n",
    "        Dense(filters, activation='relu'),\n",
    "        Dense(filters, activation='relu'),\n",
    "        Dense(filters, activation='relu'),\n",
    "        Dense(filters, activation='relu'),\n",
    "        BatchNormalization(),\n",
    "        Dropout(dropout2),\n",
    "        Dense(classes, activation='softmax'),\n",
    "    ])\n",
    "    model.summary()\n",
    "\n",
    "    return model"
   ]
  },
  {
   "cell_type": "code",
   "execution_count": 9,
   "metadata": {},
   "outputs": [],
   "source": [
    "def stop_early(patience=10, start=50):\n",
    "    earlystopping=EarlyStopping(monitor='val_f1_score',\n",
    "                                patience=patience,\n",
    "                                verbose=1,\n",
    "                                mode='max',\n",
    "                                restore_best_weights=True,\n",
    "                                start_from_epoch=start)\n",
    "    return earlystopping"
   ]
  },
  {
   "cell_type": "code",
   "execution_count": 10,
   "metadata": {},
   "outputs": [
    {
     "data": {
      "text/html": [
       "<pre style=\"white-space:pre;overflow-x:auto;line-height:normal;font-family:Menlo,'DejaVu Sans Mono',consolas,'Courier New',monospace\"><span style=\"font-weight: bold\">Model: \"sequential\"</span>\n",
       "</pre>\n"
      ],
      "text/plain": [
       "\u001b[1mModel: \"sequential\"\u001b[0m\n"
      ]
     },
     "metadata": {},
     "output_type": "display_data"
    },
    {
     "data": {
      "text/html": [
       "<pre style=\"white-space:pre;overflow-x:auto;line-height:normal;font-family:Menlo,'DejaVu Sans Mono',consolas,'Courier New',monospace\">┏━━━━━━━━━━━━━━━━━━━━━━━━━━━━━━━━━┳━━━━━━━━━━━━━━━━━━━━━━━━┳━━━━━━━━━━━━━━━┓\n",
       "┃<span style=\"font-weight: bold\"> Layer (type)                    </span>┃<span style=\"font-weight: bold\"> Output Shape           </span>┃<span style=\"font-weight: bold\">       Param # </span>┃\n",
       "┡━━━━━━━━━━━━━━━━━━━━━━━━━━━━━━━━━╇━━━━━━━━━━━━━━━━━━━━━━━━╇━━━━━━━━━━━━━━━┩\n",
       "│ dense (<span style=\"color: #0087ff; text-decoration-color: #0087ff\">Dense</span>)                   │ (<span style=\"color: #00d7ff; text-decoration-color: #00d7ff\">None</span>, <span style=\"color: #00af00; text-decoration-color: #00af00\">64</span>)             │         <span style=\"color: #00af00; text-decoration-color: #00af00\">6,400</span> │\n",
       "├─────────────────────────────────┼────────────────────────┼───────────────┤\n",
       "│ dense_1 (<span style=\"color: #0087ff; text-decoration-color: #0087ff\">Dense</span>)                 │ (<span style=\"color: #00d7ff; text-decoration-color: #00d7ff\">None</span>, <span style=\"color: #00af00; text-decoration-color: #00af00\">64</span>)             │         <span style=\"color: #00af00; text-decoration-color: #00af00\">4,160</span> │\n",
       "├─────────────────────────────────┼────────────────────────┼───────────────┤\n",
       "│ dense_2 (<span style=\"color: #0087ff; text-decoration-color: #0087ff\">Dense</span>)                 │ (<span style=\"color: #00d7ff; text-decoration-color: #00d7ff\">None</span>, <span style=\"color: #00af00; text-decoration-color: #00af00\">64</span>)             │         <span style=\"color: #00af00; text-decoration-color: #00af00\">4,160</span> │\n",
       "├─────────────────────────────────┼────────────────────────┼───────────────┤\n",
       "│ dense_3 (<span style=\"color: #0087ff; text-decoration-color: #0087ff\">Dense</span>)                 │ (<span style=\"color: #00d7ff; text-decoration-color: #00d7ff\">None</span>, <span style=\"color: #00af00; text-decoration-color: #00af00\">64</span>)             │         <span style=\"color: #00af00; text-decoration-color: #00af00\">4,160</span> │\n",
       "├─────────────────────────────────┼────────────────────────┼───────────────┤\n",
       "│ batch_normalization             │ (<span style=\"color: #00d7ff; text-decoration-color: #00d7ff\">None</span>, <span style=\"color: #00af00; text-decoration-color: #00af00\">64</span>)             │           <span style=\"color: #00af00; text-decoration-color: #00af00\">256</span> │\n",
       "│ (<span style=\"color: #0087ff; text-decoration-color: #0087ff\">BatchNormalization</span>)            │                        │               │\n",
       "├─────────────────────────────────┼────────────────────────┼───────────────┤\n",
       "│ dropout (<span style=\"color: #0087ff; text-decoration-color: #0087ff\">Dropout</span>)               │ (<span style=\"color: #00d7ff; text-decoration-color: #00d7ff\">None</span>, <span style=\"color: #00af00; text-decoration-color: #00af00\">64</span>)             │             <span style=\"color: #00af00; text-decoration-color: #00af00\">0</span> │\n",
       "├─────────────────────────────────┼────────────────────────┼───────────────┤\n",
       "│ dense_4 (<span style=\"color: #0087ff; text-decoration-color: #0087ff\">Dense</span>)                 │ (<span style=\"color: #00d7ff; text-decoration-color: #00d7ff\">None</span>, <span style=\"color: #00af00; text-decoration-color: #00af00\">64</span>)             │         <span style=\"color: #00af00; text-decoration-color: #00af00\">4,160</span> │\n",
       "├─────────────────────────────────┼────────────────────────┼───────────────┤\n",
       "│ dense_5 (<span style=\"color: #0087ff; text-decoration-color: #0087ff\">Dense</span>)                 │ (<span style=\"color: #00d7ff; text-decoration-color: #00d7ff\">None</span>, <span style=\"color: #00af00; text-decoration-color: #00af00\">64</span>)             │         <span style=\"color: #00af00; text-decoration-color: #00af00\">4,160</span> │\n",
       "├─────────────────────────────────┼────────────────────────┼───────────────┤\n",
       "│ dense_6 (<span style=\"color: #0087ff; text-decoration-color: #0087ff\">Dense</span>)                 │ (<span style=\"color: #00d7ff; text-decoration-color: #00d7ff\">None</span>, <span style=\"color: #00af00; text-decoration-color: #00af00\">64</span>)             │         <span style=\"color: #00af00; text-decoration-color: #00af00\">4,160</span> │\n",
       "├─────────────────────────────────┼────────────────────────┼───────────────┤\n",
       "│ dense_7 (<span style=\"color: #0087ff; text-decoration-color: #0087ff\">Dense</span>)                 │ (<span style=\"color: #00d7ff; text-decoration-color: #00d7ff\">None</span>, <span style=\"color: #00af00; text-decoration-color: #00af00\">64</span>)             │         <span style=\"color: #00af00; text-decoration-color: #00af00\">4,160</span> │\n",
       "├─────────────────────────────────┼────────────────────────┼───────────────┤\n",
       "│ batch_normalization_1           │ (<span style=\"color: #00d7ff; text-decoration-color: #00d7ff\">None</span>, <span style=\"color: #00af00; text-decoration-color: #00af00\">64</span>)             │           <span style=\"color: #00af00; text-decoration-color: #00af00\">256</span> │\n",
       "│ (<span style=\"color: #0087ff; text-decoration-color: #0087ff\">BatchNormalization</span>)            │                        │               │\n",
       "├─────────────────────────────────┼────────────────────────┼───────────────┤\n",
       "│ dropout_1 (<span style=\"color: #0087ff; text-decoration-color: #0087ff\">Dropout</span>)             │ (<span style=\"color: #00d7ff; text-decoration-color: #00d7ff\">None</span>, <span style=\"color: #00af00; text-decoration-color: #00af00\">64</span>)             │             <span style=\"color: #00af00; text-decoration-color: #00af00\">0</span> │\n",
       "├─────────────────────────────────┼────────────────────────┼───────────────┤\n",
       "│ dense_8 (<span style=\"color: #0087ff; text-decoration-color: #0087ff\">Dense</span>)                 │ (<span style=\"color: #00d7ff; text-decoration-color: #00d7ff\">None</span>, <span style=\"color: #00af00; text-decoration-color: #00af00\">10</span>)             │           <span style=\"color: #00af00; text-decoration-color: #00af00\">650</span> │\n",
       "└─────────────────────────────────┴────────────────────────┴───────────────┘\n",
       "</pre>\n"
      ],
      "text/plain": [
       "┏━━━━━━━━━━━━━━━━━━━━━━━━━━━━━━━━━┳━━━━━━━━━━━━━━━━━━━━━━━━┳━━━━━━━━━━━━━━━┓\n",
       "┃\u001b[1m \u001b[0m\u001b[1mLayer (type)                   \u001b[0m\u001b[1m \u001b[0m┃\u001b[1m \u001b[0m\u001b[1mOutput Shape          \u001b[0m\u001b[1m \u001b[0m┃\u001b[1m \u001b[0m\u001b[1m      Param #\u001b[0m\u001b[1m \u001b[0m┃\n",
       "┡━━━━━━━━━━━━━━━━━━━━━━━━━━━━━━━━━╇━━━━━━━━━━━━━━━━━━━━━━━━╇━━━━━━━━━━━━━━━┩\n",
       "│ dense (\u001b[38;5;33mDense\u001b[0m)                   │ (\u001b[38;5;45mNone\u001b[0m, \u001b[38;5;34m64\u001b[0m)             │         \u001b[38;5;34m6,400\u001b[0m │\n",
       "├─────────────────────────────────┼────────────────────────┼───────────────┤\n",
       "│ dense_1 (\u001b[38;5;33mDense\u001b[0m)                 │ (\u001b[38;5;45mNone\u001b[0m, \u001b[38;5;34m64\u001b[0m)             │         \u001b[38;5;34m4,160\u001b[0m │\n",
       "├─────────────────────────────────┼────────────────────────┼───────────────┤\n",
       "│ dense_2 (\u001b[38;5;33mDense\u001b[0m)                 │ (\u001b[38;5;45mNone\u001b[0m, \u001b[38;5;34m64\u001b[0m)             │         \u001b[38;5;34m4,160\u001b[0m │\n",
       "├─────────────────────────────────┼────────────────────────┼───────────────┤\n",
       "│ dense_3 (\u001b[38;5;33mDense\u001b[0m)                 │ (\u001b[38;5;45mNone\u001b[0m, \u001b[38;5;34m64\u001b[0m)             │         \u001b[38;5;34m4,160\u001b[0m │\n",
       "├─────────────────────────────────┼────────────────────────┼───────────────┤\n",
       "│ batch_normalization             │ (\u001b[38;5;45mNone\u001b[0m, \u001b[38;5;34m64\u001b[0m)             │           \u001b[38;5;34m256\u001b[0m │\n",
       "│ (\u001b[38;5;33mBatchNormalization\u001b[0m)            │                        │               │\n",
       "├─────────────────────────────────┼────────────────────────┼───────────────┤\n",
       "│ dropout (\u001b[38;5;33mDropout\u001b[0m)               │ (\u001b[38;5;45mNone\u001b[0m, \u001b[38;5;34m64\u001b[0m)             │             \u001b[38;5;34m0\u001b[0m │\n",
       "├─────────────────────────────────┼────────────────────────┼───────────────┤\n",
       "│ dense_4 (\u001b[38;5;33mDense\u001b[0m)                 │ (\u001b[38;5;45mNone\u001b[0m, \u001b[38;5;34m64\u001b[0m)             │         \u001b[38;5;34m4,160\u001b[0m │\n",
       "├─────────────────────────────────┼────────────────────────┼───────────────┤\n",
       "│ dense_5 (\u001b[38;5;33mDense\u001b[0m)                 │ (\u001b[38;5;45mNone\u001b[0m, \u001b[38;5;34m64\u001b[0m)             │         \u001b[38;5;34m4,160\u001b[0m │\n",
       "├─────────────────────────────────┼────────────────────────┼───────────────┤\n",
       "│ dense_6 (\u001b[38;5;33mDense\u001b[0m)                 │ (\u001b[38;5;45mNone\u001b[0m, \u001b[38;5;34m64\u001b[0m)             │         \u001b[38;5;34m4,160\u001b[0m │\n",
       "├─────────────────────────────────┼────────────────────────┼───────────────┤\n",
       "│ dense_7 (\u001b[38;5;33mDense\u001b[0m)                 │ (\u001b[38;5;45mNone\u001b[0m, \u001b[38;5;34m64\u001b[0m)             │         \u001b[38;5;34m4,160\u001b[0m │\n",
       "├─────────────────────────────────┼────────────────────────┼───────────────┤\n",
       "│ batch_normalization_1           │ (\u001b[38;5;45mNone\u001b[0m, \u001b[38;5;34m64\u001b[0m)             │           \u001b[38;5;34m256\u001b[0m │\n",
       "│ (\u001b[38;5;33mBatchNormalization\u001b[0m)            │                        │               │\n",
       "├─────────────────────────────────┼────────────────────────┼───────────────┤\n",
       "│ dropout_1 (\u001b[38;5;33mDropout\u001b[0m)             │ (\u001b[38;5;45mNone\u001b[0m, \u001b[38;5;34m64\u001b[0m)             │             \u001b[38;5;34m0\u001b[0m │\n",
       "├─────────────────────────────────┼────────────────────────┼───────────────┤\n",
       "│ dense_8 (\u001b[38;5;33mDense\u001b[0m)                 │ (\u001b[38;5;45mNone\u001b[0m, \u001b[38;5;34m10\u001b[0m)             │           \u001b[38;5;34m650\u001b[0m │\n",
       "└─────────────────────────────────┴────────────────────────┴───────────────┘\n"
      ]
     },
     "metadata": {},
     "output_type": "display_data"
    },
    {
     "data": {
      "text/html": [
       "<pre style=\"white-space:pre;overflow-x:auto;line-height:normal;font-family:Menlo,'DejaVu Sans Mono',consolas,'Courier New',monospace\"><span style=\"font-weight: bold\"> Total params: </span><span style=\"color: #00af00; text-decoration-color: #00af00\">36,682</span> (143.29 KB)\n",
       "</pre>\n"
      ],
      "text/plain": [
       "\u001b[1m Total params: \u001b[0m\u001b[38;5;34m36,682\u001b[0m (143.29 KB)\n"
      ]
     },
     "metadata": {},
     "output_type": "display_data"
    },
    {
     "data": {
      "text/html": [
       "<pre style=\"white-space:pre;overflow-x:auto;line-height:normal;font-family:Menlo,'DejaVu Sans Mono',consolas,'Courier New',monospace\"><span style=\"font-weight: bold\"> Trainable params: </span><span style=\"color: #00af00; text-decoration-color: #00af00\">36,426</span> (142.29 KB)\n",
       "</pre>\n"
      ],
      "text/plain": [
       "\u001b[1m Trainable params: \u001b[0m\u001b[38;5;34m36,426\u001b[0m (142.29 KB)\n"
      ]
     },
     "metadata": {},
     "output_type": "display_data"
    },
    {
     "data": {
      "text/html": [
       "<pre style=\"white-space:pre;overflow-x:auto;line-height:normal;font-family:Menlo,'DejaVu Sans Mono',consolas,'Courier New',monospace\"><span style=\"font-weight: bold\"> Non-trainable params: </span><span style=\"color: #00af00; text-decoration-color: #00af00\">256</span> (1.00 KB)\n",
       "</pre>\n"
      ],
      "text/plain": [
       "\u001b[1m Non-trainable params: \u001b[0m\u001b[38;5;34m256\u001b[0m (1.00 KB)\n"
      ]
     },
     "metadata": {},
     "output_type": "display_data"
    }
   ],
   "source": [
    "model1 = get_model(99, 64, 0.5, 0.5, 10)"
   ]
  },
  {
   "cell_type": "code",
   "execution_count": 11,
   "metadata": {},
   "outputs": [
    {
     "name": "stdout",
     "output_type": "stream",
     "text": [
      "Epoch 1/100\n",
      "\u001b[1m29/29\u001b[0m \u001b[32m━━━━━━━━━━━━━━━━━━━━\u001b[0m\u001b[37m\u001b[0m \u001b[1m5s\u001b[0m 14ms/step - f1_score: 0.1473 - loss: 0.6362 - val_f1_score: 0.1679 - val_loss: 0.4432\n",
      "Epoch 2/100\n",
      "\u001b[1m29/29\u001b[0m \u001b[32m━━━━━━━━━━━━━━━━━━━━\u001b[0m\u001b[37m\u001b[0m \u001b[1m0s\u001b[0m 4ms/step - f1_score: 0.2063 - loss: 0.4650 - val_f1_score: 0.2278 - val_loss: 0.4152\n",
      "Epoch 3/100\n",
      "\u001b[1m29/29\u001b[0m \u001b[32m━━━━━━━━━━━━━━━━━━━━\u001b[0m\u001b[37m\u001b[0m \u001b[1m0s\u001b[0m 5ms/step - f1_score: 0.3190 - loss: 0.3536 - val_f1_score: 0.2377 - val_loss: 0.3803\n",
      "Epoch 4/100\n",
      "\u001b[1m29/29\u001b[0m \u001b[32m━━━━━━━━━━━━━━━━━━━━\u001b[0m\u001b[37m\u001b[0m \u001b[1m0s\u001b[0m 6ms/step - f1_score: 0.3733 - loss: 0.3284 - val_f1_score: 0.2470 - val_loss: 0.3528\n",
      "Epoch 5/100\n",
      "\u001b[1m29/29\u001b[0m \u001b[32m━━━━━━━━━━━━━━━━━━━━\u001b[0m\u001b[37m\u001b[0m \u001b[1m0s\u001b[0m 5ms/step - f1_score: 0.4379 - loss: 0.2801 - val_f1_score: 0.2933 - val_loss: 0.3163\n",
      "Epoch 6/100\n",
      "\u001b[1m29/29\u001b[0m \u001b[32m━━━━━━━━━━━━━━━━━━━━\u001b[0m\u001b[37m\u001b[0m \u001b[1m0s\u001b[0m 6ms/step - f1_score: 0.4415 - loss: 0.2373 - val_f1_score: 0.3753 - val_loss: 0.2836\n",
      "Epoch 7/100\n",
      "\u001b[1m29/29\u001b[0m \u001b[32m━━━━━━━━━━━━━━━━━━━━\u001b[0m\u001b[37m\u001b[0m \u001b[1m0s\u001b[0m 6ms/step - f1_score: 0.5448 - loss: 0.2121 - val_f1_score: 0.4510 - val_loss: 0.2492\n",
      "Epoch 8/100\n",
      "\u001b[1m29/29\u001b[0m \u001b[32m━━━━━━━━━━━━━━━━━━━━\u001b[0m\u001b[37m\u001b[0m \u001b[1m0s\u001b[0m 6ms/step - f1_score: 0.4771 - loss: 0.2194 - val_f1_score: 0.5210 - val_loss: 0.2325\n",
      "Epoch 9/100\n",
      "\u001b[1m29/29\u001b[0m \u001b[32m━━━━━━━━━━━━━━━━━━━━\u001b[0m\u001b[37m\u001b[0m \u001b[1m0s\u001b[0m 4ms/step - f1_score: 0.5696 - loss: 0.1857 - val_f1_score: 0.5316 - val_loss: 0.2065\n",
      "Epoch 10/100\n",
      "\u001b[1m29/29\u001b[0m \u001b[32m━━━━━━━━━━━━━━━━━━━━\u001b[0m\u001b[37m\u001b[0m \u001b[1m0s\u001b[0m 4ms/step - f1_score: 0.5496 - loss: 0.1788 - val_f1_score: 0.6144 - val_loss: 0.1790\n",
      "Epoch 11/100\n",
      "\u001b[1m29/29\u001b[0m \u001b[32m━━━━━━━━━━━━━━━━━━━━\u001b[0m\u001b[37m\u001b[0m \u001b[1m0s\u001b[0m 4ms/step - f1_score: 0.5654 - loss: 0.1711 - val_f1_score: 0.5646 - val_loss: 0.1611\n",
      "Epoch 12/100\n",
      "\u001b[1m29/29\u001b[0m \u001b[32m━━━━━━━━━━━━━━━━━━━━\u001b[0m\u001b[37m\u001b[0m \u001b[1m0s\u001b[0m 4ms/step - f1_score: 0.5875 - loss: 0.1675 - val_f1_score: 0.6553 - val_loss: 0.1431\n",
      "Epoch 13/100\n",
      "\u001b[1m29/29\u001b[0m \u001b[32m━━━━━━━━━━━━━━━━━━━━\u001b[0m\u001b[37m\u001b[0m \u001b[1m0s\u001b[0m 4ms/step - f1_score: 0.5932 - loss: 0.1540 - val_f1_score: 0.7055 - val_loss: 0.1413\n",
      "Epoch 14/100\n",
      "\u001b[1m29/29\u001b[0m \u001b[32m━━━━━━━━━━━━━━━━━━━━\u001b[0m\u001b[37m\u001b[0m \u001b[1m0s\u001b[0m 6ms/step - f1_score: 0.6140 - loss: 0.1487 - val_f1_score: 0.7215 - val_loss: 0.1274\n",
      "Epoch 15/100\n",
      "\u001b[1m29/29\u001b[0m \u001b[32m━━━━━━━━━━━━━━━━━━━━\u001b[0m\u001b[37m\u001b[0m \u001b[1m0s\u001b[0m 5ms/step - f1_score: 0.6519 - loss: 0.1215 - val_f1_score: 0.7100 - val_loss: 0.1361\n",
      "Epoch 16/100\n",
      "\u001b[1m29/29\u001b[0m \u001b[32m━━━━━━━━━━━━━━━━━━━━\u001b[0m\u001b[37m\u001b[0m \u001b[1m0s\u001b[0m 5ms/step - f1_score: 0.6516 - loss: 0.1383 - val_f1_score: 0.7382 - val_loss: 0.1335\n",
      "Epoch 17/100\n",
      "\u001b[1m29/29\u001b[0m \u001b[32m━━━━━━━━━━━━━━━━━━━━\u001b[0m\u001b[37m\u001b[0m \u001b[1m0s\u001b[0m 5ms/step - f1_score: 0.7161 - loss: 0.1050 - val_f1_score: 0.7019 - val_loss: 0.1259\n",
      "Epoch 18/100\n",
      "\u001b[1m29/29\u001b[0m \u001b[32m━━━━━━━━━━━━━━━━━━━━\u001b[0m\u001b[37m\u001b[0m \u001b[1m0s\u001b[0m 4ms/step - f1_score: 0.6784 - loss: 0.1253 - val_f1_score: 0.7058 - val_loss: 0.1259\n",
      "Epoch 19/100\n",
      "\u001b[1m29/29\u001b[0m \u001b[32m━━━━━━━━━━━━━━━━━━━━\u001b[0m\u001b[37m\u001b[0m \u001b[1m0s\u001b[0m 5ms/step - f1_score: 0.7315 - loss: 0.1090 - val_f1_score: 0.7121 - val_loss: 0.1232\n",
      "Epoch 20/100\n",
      "\u001b[1m29/29\u001b[0m \u001b[32m━━━━━━━━━━━━━━━━━━━━\u001b[0m\u001b[37m\u001b[0m \u001b[1m0s\u001b[0m 5ms/step - f1_score: 0.6996 - loss: 0.1138 - val_f1_score: 0.6571 - val_loss: 0.1227\n",
      "Epoch 21/100\n",
      "\u001b[1m29/29\u001b[0m \u001b[32m━━━━━━━━━━━━━━━━━━━━\u001b[0m\u001b[37m\u001b[0m \u001b[1m0s\u001b[0m 4ms/step - f1_score: 0.6871 - loss: 0.1034 - val_f1_score: 0.6940 - val_loss: 0.1191\n",
      "Epoch 22/100\n",
      "\u001b[1m29/29\u001b[0m \u001b[32m━━━━━━━━━━━━━━━━━━━━\u001b[0m\u001b[37m\u001b[0m \u001b[1m0s\u001b[0m 5ms/step - f1_score: 0.7297 - loss: 0.0972 - val_f1_score: 0.7338 - val_loss: 0.1315\n",
      "Epoch 23/100\n",
      "\u001b[1m29/29\u001b[0m \u001b[32m━━━━━━━━━━━━━━━━━━━━\u001b[0m\u001b[37m\u001b[0m \u001b[1m0s\u001b[0m 5ms/step - f1_score: 0.7284 - loss: 0.1000 - val_f1_score: 0.7282 - val_loss: 0.1099\n",
      "Epoch 24/100\n",
      "\u001b[1m29/29\u001b[0m \u001b[32m━━━━━━━━━━━━━━━━━━━━\u001b[0m\u001b[37m\u001b[0m \u001b[1m0s\u001b[0m 5ms/step - f1_score: 0.7746 - loss: 0.1016 - val_f1_score: 0.7426 - val_loss: 0.1192\n",
      "Epoch 25/100\n",
      "\u001b[1m29/29\u001b[0m \u001b[32m━━━━━━━━━━━━━━━━━━━━\u001b[0m\u001b[37m\u001b[0m \u001b[1m0s\u001b[0m 5ms/step - f1_score: 0.7736 - loss: 0.0853 - val_f1_score: 0.7578 - val_loss: 0.1108\n",
      "Epoch 26/100\n",
      "\u001b[1m29/29\u001b[0m \u001b[32m━━━━━━━━━━━━━━━━━━━━\u001b[0m\u001b[37m\u001b[0m \u001b[1m0s\u001b[0m 5ms/step - f1_score: 0.7548 - loss: 0.0909 - val_f1_score: 0.7555 - val_loss: 0.1092\n",
      "Epoch 27/100\n",
      "\u001b[1m29/29\u001b[0m \u001b[32m━━━━━━━━━━━━━━━━━━━━\u001b[0m\u001b[37m\u001b[0m \u001b[1m0s\u001b[0m 5ms/step - f1_score: 0.7818 - loss: 0.0718 - val_f1_score: 0.7397 - val_loss: 0.1239\n",
      "Epoch 28/100\n",
      "\u001b[1m29/29\u001b[0m \u001b[32m━━━━━━━━━━━━━━━━━━━━\u001b[0m\u001b[37m\u001b[0m \u001b[1m0s\u001b[0m 5ms/step - f1_score: 0.7939 - loss: 0.0708 - val_f1_score: 0.7288 - val_loss: 0.1115\n",
      "Epoch 29/100\n",
      "\u001b[1m29/29\u001b[0m \u001b[32m━━━━━━━━━━━━━━━━━━━━\u001b[0m\u001b[37m\u001b[0m \u001b[1m0s\u001b[0m 5ms/step - f1_score: 0.7840 - loss: 0.0763 - val_f1_score: 0.7459 - val_loss: 0.1023\n",
      "Epoch 30/100\n",
      "\u001b[1m29/29\u001b[0m \u001b[32m━━━━━━━━━━━━━━━━━━━━\u001b[0m\u001b[37m\u001b[0m \u001b[1m0s\u001b[0m 5ms/step - f1_score: 0.7696 - loss: 0.0854 - val_f1_score: 0.7584 - val_loss: 0.1234\n",
      "Epoch 31/100\n",
      "\u001b[1m29/29\u001b[0m \u001b[32m━━━━━━━━━━━━━━━━━━━━\u001b[0m\u001b[37m\u001b[0m \u001b[1m0s\u001b[0m 5ms/step - f1_score: 0.8326 - loss: 0.0679 - val_f1_score: 0.7959 - val_loss: 0.1159\n",
      "Epoch 32/100\n",
      "\u001b[1m29/29\u001b[0m \u001b[32m━━━━━━━━━━━━━━━━━━━━\u001b[0m\u001b[37m\u001b[0m \u001b[1m0s\u001b[0m 5ms/step - f1_score: 0.8243 - loss: 0.0631 - val_f1_score: 0.7433 - val_loss: 0.1261\n",
      "Epoch 33/100\n",
      "\u001b[1m29/29\u001b[0m \u001b[32m━━━━━━━━━━━━━━━━━━━━\u001b[0m\u001b[37m\u001b[0m \u001b[1m0s\u001b[0m 5ms/step - f1_score: 0.8081 - loss: 0.0625 - val_f1_score: 0.7878 - val_loss: 0.1262\n",
      "Epoch 34/100\n",
      "\u001b[1m29/29\u001b[0m \u001b[32m━━━━━━━━━━━━━━━━━━━━\u001b[0m\u001b[37m\u001b[0m \u001b[1m0s\u001b[0m 5ms/step - f1_score: 0.7870 - loss: 0.0639 - val_f1_score: 0.7843 - val_loss: 0.1194\n",
      "Epoch 35/100\n",
      "\u001b[1m29/29\u001b[0m \u001b[32m━━━━━━━━━━━━━━━━━━━━\u001b[0m\u001b[37m\u001b[0m \u001b[1m0s\u001b[0m 5ms/step - f1_score: 0.7878 - loss: 0.0644 - val_f1_score: 0.7845 - val_loss: 0.1263\n",
      "Epoch 36/100\n",
      "\u001b[1m29/29\u001b[0m \u001b[32m━━━━━━━━━━━━━━━━━━━━\u001b[0m\u001b[37m\u001b[0m \u001b[1m0s\u001b[0m 5ms/step - f1_score: 0.8706 - loss: 0.0534 - val_f1_score: 0.7911 - val_loss: 0.1115\n",
      "Epoch 37/100\n",
      "\u001b[1m29/29\u001b[0m \u001b[32m━━━━━━━━━━━━━━━━━━━━\u001b[0m\u001b[37m\u001b[0m \u001b[1m0s\u001b[0m 5ms/step - f1_score: 0.8350 - loss: 0.0533 - val_f1_score: 0.7435 - val_loss: 0.1352\n",
      "Epoch 38/100\n",
      "\u001b[1m29/29\u001b[0m \u001b[32m━━━━━━━━━━━━━━━━━━━━\u001b[0m\u001b[37m\u001b[0m \u001b[1m0s\u001b[0m 4ms/step - f1_score: 0.8605 - loss: 0.0495 - val_f1_score: 0.7300 - val_loss: 0.1463\n",
      "Epoch 39/100\n",
      "\u001b[1m29/29\u001b[0m \u001b[32m━━━━━━━━━━━━━━━━━━━━\u001b[0m\u001b[37m\u001b[0m \u001b[1m0s\u001b[0m 4ms/step - f1_score: 0.8096 - loss: 0.0702 - val_f1_score: 0.7529 - val_loss: 0.1200\n",
      "Epoch 40/100\n",
      "\u001b[1m29/29\u001b[0m \u001b[32m━━━━━━━━━━━━━━━━━━━━\u001b[0m\u001b[37m\u001b[0m \u001b[1m0s\u001b[0m 4ms/step - f1_score: 0.8455 - loss: 0.0591 - val_f1_score: 0.8198 - val_loss: 0.1163\n",
      "Epoch 41/100\n",
      "\u001b[1m29/29\u001b[0m \u001b[32m━━━━━━━━━━━━━━━━━━━━\u001b[0m\u001b[37m\u001b[0m \u001b[1m0s\u001b[0m 4ms/step - f1_score: 0.8491 - loss: 0.0505 - val_f1_score: 0.8002 - val_loss: 0.1258\n",
      "Epoch 42/100\n",
      "\u001b[1m29/29\u001b[0m \u001b[32m━━━━━━━━━━━━━━━━━━━━\u001b[0m\u001b[37m\u001b[0m \u001b[1m0s\u001b[0m 4ms/step - f1_score: 0.8527 - loss: 0.0491 - val_f1_score: 0.7795 - val_loss: 0.1280\n",
      "Epoch 43/100\n",
      "\u001b[1m29/29\u001b[0m \u001b[32m━━━━━━━━━━━━━━━━━━━━\u001b[0m\u001b[37m\u001b[0m \u001b[1m0s\u001b[0m 6ms/step - f1_score: 0.8509 - loss: 0.0543 - val_f1_score: 0.7959 - val_loss: 0.1138\n",
      "Epoch 44/100\n",
      "\u001b[1m29/29\u001b[0m \u001b[32m━━━━━━━━━━━━━━━━━━━━\u001b[0m\u001b[37m\u001b[0m \u001b[1m0s\u001b[0m 4ms/step - f1_score: 0.8242 - loss: 0.0575 - val_f1_score: 0.7985 - val_loss: 0.1509\n",
      "Epoch 45/100\n",
      "\u001b[1m29/29\u001b[0m \u001b[32m━━━━━━━━━━━━━━━━━━━━\u001b[0m\u001b[37m\u001b[0m \u001b[1m0s\u001b[0m 5ms/step - f1_score: 0.8390 - loss: 0.0547 - val_f1_score: 0.7770 - val_loss: 0.1165\n",
      "Epoch 46/100\n",
      "\u001b[1m29/29\u001b[0m \u001b[32m━━━━━━━━━━━━━━━━━━━━\u001b[0m\u001b[37m\u001b[0m \u001b[1m0s\u001b[0m 4ms/step - f1_score: 0.8585 - loss: 0.0461 - val_f1_score: 0.8075 - val_loss: 0.1102\n",
      "Epoch 47/100\n",
      "\u001b[1m29/29\u001b[0m \u001b[32m━━━━━━━━━━━━━━━━━━━━\u001b[0m\u001b[37m\u001b[0m \u001b[1m0s\u001b[0m 4ms/step - f1_score: 0.8617 - loss: 0.0428 - val_f1_score: 0.7882 - val_loss: 0.1209\n",
      "Epoch 48/100\n",
      "\u001b[1m29/29\u001b[0m \u001b[32m━━━━━━━━━━━━━━━━━━━━\u001b[0m\u001b[37m\u001b[0m \u001b[1m0s\u001b[0m 5ms/step - f1_score: 0.8683 - loss: 0.0444 - val_f1_score: 0.7844 - val_loss: 0.1502\n",
      "Epoch 49/100\n",
      "\u001b[1m29/29\u001b[0m \u001b[32m━━━━━━━━━━━━━━━━━━━━\u001b[0m\u001b[37m\u001b[0m \u001b[1m0s\u001b[0m 4ms/step - f1_score: 0.8925 - loss: 0.0417 - val_f1_score: 0.7881 - val_loss: 0.1296\n",
      "Epoch 50/100\n",
      "\u001b[1m29/29\u001b[0m \u001b[32m━━━━━━━━━━━━━━━━━━━━\u001b[0m\u001b[37m\u001b[0m \u001b[1m0s\u001b[0m 4ms/step - f1_score: 0.8317 - loss: 0.0592 - val_f1_score: 0.7683 - val_loss: 0.1354\n",
      "Epoch 51/100\n",
      "\u001b[1m29/29\u001b[0m \u001b[32m━━━━━━━━━━━━━━━━━━━━\u001b[0m\u001b[37m\u001b[0m \u001b[1m0s\u001b[0m 5ms/step - f1_score: 0.8923 - loss: 0.0392 - val_f1_score: 0.7891 - val_loss: 0.1262\n",
      "Epoch 52/100\n",
      "\u001b[1m29/29\u001b[0m \u001b[32m━━━━━━━━━━━━━━━━━━━━\u001b[0m\u001b[37m\u001b[0m \u001b[1m0s\u001b[0m 5ms/step - f1_score: 0.8660 - loss: 0.0469 - val_f1_score: 0.7888 - val_loss: 0.1301\n",
      "Epoch 53/100\n",
      "\u001b[1m29/29\u001b[0m \u001b[32m━━━━━━━━━━━━━━━━━━━━\u001b[0m\u001b[37m\u001b[0m \u001b[1m0s\u001b[0m 5ms/step - f1_score: 0.8568 - loss: 0.0438 - val_f1_score: 0.7954 - val_loss: 0.1289\n",
      "Epoch 54/100\n",
      "\u001b[1m29/29\u001b[0m \u001b[32m━━━━━━━━━━━━━━━━━━━━\u001b[0m\u001b[37m\u001b[0m \u001b[1m0s\u001b[0m 4ms/step - f1_score: 0.8659 - loss: 0.0444 - val_f1_score: 0.7981 - val_loss: 0.1216\n",
      "Epoch 55/100\n",
      "\u001b[1m29/29\u001b[0m \u001b[32m━━━━━━━━━━━━━━━━━━━━\u001b[0m\u001b[37m\u001b[0m \u001b[1m0s\u001b[0m 4ms/step - f1_score: 0.8606 - loss: 0.0503 - val_f1_score: 0.8168 - val_loss: 0.1275\n",
      "Epoch 56/100\n",
      "\u001b[1m29/29\u001b[0m \u001b[32m━━━━━━━━━━━━━━━━━━━━\u001b[0m\u001b[37m\u001b[0m \u001b[1m0s\u001b[0m 4ms/step - f1_score: 0.8716 - loss: 0.0398 - val_f1_score: 0.7972 - val_loss: 0.1464\n",
      "Epoch 57/100\n",
      "\u001b[1m29/29\u001b[0m \u001b[32m━━━━━━━━━━━━━━━━━━━━\u001b[0m\u001b[37m\u001b[0m \u001b[1m0s\u001b[0m 5ms/step - f1_score: 0.8848 - loss: 0.0389 - val_f1_score: 0.8290 - val_loss: 0.1279\n",
      "Epoch 58/100\n",
      "\u001b[1m29/29\u001b[0m \u001b[32m━━━━━━━━━━━━━━━━━━━━\u001b[0m\u001b[37m\u001b[0m \u001b[1m0s\u001b[0m 5ms/step - f1_score: 0.9123 - loss: 0.0314 - val_f1_score: 0.8281 - val_loss: 0.1552\n",
      "Epoch 59/100\n",
      "\u001b[1m29/29\u001b[0m \u001b[32m━━━━━━━━━━━━━━━━━━━━\u001b[0m\u001b[37m\u001b[0m \u001b[1m0s\u001b[0m 4ms/step - f1_score: 0.8940 - loss: 0.0378 - val_f1_score: 0.8259 - val_loss: 0.1415\n",
      "Epoch 60/100\n",
      "\u001b[1m29/29\u001b[0m \u001b[32m━━━━━━━━━━━━━━━━━━━━\u001b[0m\u001b[37m\u001b[0m \u001b[1m0s\u001b[0m 4ms/step - f1_score: 0.8894 - loss: 0.0383 - val_f1_score: 0.7779 - val_loss: 0.1423\n",
      "Epoch 61/100\n",
      "\u001b[1m29/29\u001b[0m \u001b[32m━━━━━━━━━━━━━━━━━━━━\u001b[0m\u001b[37m\u001b[0m \u001b[1m0s\u001b[0m 5ms/step - f1_score: 0.8922 - loss: 0.0352 - val_f1_score: 0.8328 - val_loss: 0.1303\n",
      "Epoch 62/100\n",
      "\u001b[1m29/29\u001b[0m \u001b[32m━━━━━━━━━━━━━━━━━━━━\u001b[0m\u001b[37m\u001b[0m \u001b[1m0s\u001b[0m 4ms/step - f1_score: 0.8838 - loss: 0.0343 - val_f1_score: 0.8352 - val_loss: 0.1322\n",
      "Epoch 63/100\n",
      "\u001b[1m29/29\u001b[0m \u001b[32m━━━━━━━━━━━━━━━━━━━━\u001b[0m\u001b[37m\u001b[0m \u001b[1m0s\u001b[0m 4ms/step - f1_score: 0.8849 - loss: 0.0408 - val_f1_score: 0.8192 - val_loss: 0.1353\n",
      "Epoch 64/100\n",
      "\u001b[1m29/29\u001b[0m \u001b[32m━━━━━━━━━━━━━━━━━━━━\u001b[0m\u001b[37m\u001b[0m \u001b[1m0s\u001b[0m 4ms/step - f1_score: 0.8847 - loss: 0.0395 - val_f1_score: 0.8304 - val_loss: 0.1229\n",
      "Epoch 65/100\n",
      "\u001b[1m29/29\u001b[0m \u001b[32m━━━━━━━━━━━━━━━━━━━━\u001b[0m\u001b[37m\u001b[0m \u001b[1m0s\u001b[0m 4ms/step - f1_score: 0.9231 - loss: 0.0261 - val_f1_score: 0.7615 - val_loss: 0.1354\n",
      "Epoch 66/100\n",
      "\u001b[1m29/29\u001b[0m \u001b[32m━━━━━━━━━━━━━━━━━━━━\u001b[0m\u001b[37m\u001b[0m \u001b[1m0s\u001b[0m 4ms/step - f1_score: 0.8971 - loss: 0.0311 - val_f1_score: 0.7886 - val_loss: 0.1453\n",
      "Epoch 67/100\n",
      "\u001b[1m29/29\u001b[0m \u001b[32m━━━━━━━━━━━━━━━━━━━━\u001b[0m\u001b[37m\u001b[0m \u001b[1m0s\u001b[0m 5ms/step - f1_score: 0.9124 - loss: 0.0327 - val_f1_score: 0.7779 - val_loss: 0.1373\n",
      "Epoch 68/100\n",
      "\u001b[1m29/29\u001b[0m \u001b[32m━━━━━━━━━━━━━━━━━━━━\u001b[0m\u001b[37m\u001b[0m \u001b[1m0s\u001b[0m 4ms/step - f1_score: 0.8908 - loss: 0.0425 - val_f1_score: 0.7864 - val_loss: 0.1386\n",
      "Epoch 69/100\n",
      "\u001b[1m29/29\u001b[0m \u001b[32m━━━━━━━━━━━━━━━━━━━━\u001b[0m\u001b[37m\u001b[0m \u001b[1m0s\u001b[0m 5ms/step - f1_score: 0.9231 - loss: 0.0252 - val_f1_score: 0.7677 - val_loss: 0.1449\n",
      "Epoch 70/100\n",
      "\u001b[1m29/29\u001b[0m \u001b[32m━━━━━━━━━━━━━━━━━━━━\u001b[0m\u001b[37m\u001b[0m \u001b[1m0s\u001b[0m 4ms/step - f1_score: 0.9137 - loss: 0.0248 - val_f1_score: 0.7371 - val_loss: 0.1769\n",
      "Epoch 71/100\n",
      "\u001b[1m29/29\u001b[0m \u001b[32m━━━━━━━━━━━━━━━━━━━━\u001b[0m\u001b[37m\u001b[0m \u001b[1m0s\u001b[0m 5ms/step - f1_score: 0.8772 - loss: 0.0407 - val_f1_score: 0.8220 - val_loss: 0.1411\n",
      "Epoch 72/100\n",
      "\u001b[1m29/29\u001b[0m \u001b[32m━━━━━━━━━━━━━━━━━━━━\u001b[0m\u001b[37m\u001b[0m \u001b[1m0s\u001b[0m 5ms/step - f1_score: 0.9189 - loss: 0.0280 - val_f1_score: 0.8517 - val_loss: 0.1397\n",
      "Epoch 73/100\n",
      "\u001b[1m29/29\u001b[0m \u001b[32m━━━━━━━━━━━━━━━━━━━━\u001b[0m\u001b[37m\u001b[0m \u001b[1m0s\u001b[0m 5ms/step - f1_score: 0.9275 - loss: 0.0258 - val_f1_score: 0.7939 - val_loss: 0.1257\n",
      "Epoch 74/100\n",
      "\u001b[1m29/29\u001b[0m \u001b[32m━━━━━━━━━━━━━━━━━━━━\u001b[0m\u001b[37m\u001b[0m \u001b[1m0s\u001b[0m 4ms/step - f1_score: 0.9169 - loss: 0.0339 - val_f1_score: 0.7873 - val_loss: 0.1596\n",
      "Epoch 75/100\n",
      "\u001b[1m29/29\u001b[0m \u001b[32m━━━━━━━━━━━━━━━━━━━━\u001b[0m\u001b[37m\u001b[0m \u001b[1m0s\u001b[0m 8ms/step - f1_score: 0.9075 - loss: 0.0272 - val_f1_score: 0.8149 - val_loss: 0.1198\n",
      "Epoch 76/100\n",
      "\u001b[1m29/29\u001b[0m \u001b[32m━━━━━━━━━━━━━━━━━━━━\u001b[0m\u001b[37m\u001b[0m \u001b[1m0s\u001b[0m 4ms/step - f1_score: 0.9064 - loss: 0.0287 - val_f1_score: 0.7977 - val_loss: 0.1397\n",
      "Epoch 77/100\n",
      "\u001b[1m29/29\u001b[0m \u001b[32m━━━━━━━━━━━━━━━━━━━━\u001b[0m\u001b[37m\u001b[0m \u001b[1m0s\u001b[0m 5ms/step - f1_score: 0.9348 - loss: 0.0247 - val_f1_score: 0.7694 - val_loss: 0.1639\n",
      "Epoch 78/100\n",
      "\u001b[1m29/29\u001b[0m \u001b[32m━━━━━━━━━━━━━━━━━━━━\u001b[0m\u001b[37m\u001b[0m \u001b[1m0s\u001b[0m 4ms/step - f1_score: 0.9293 - loss: 0.0271 - val_f1_score: 0.8272 - val_loss: 0.1228\n",
      "Epoch 79/100\n",
      "\u001b[1m29/29\u001b[0m \u001b[32m━━━━━━━━━━━━━━━━━━━━\u001b[0m\u001b[37m\u001b[0m \u001b[1m0s\u001b[0m 4ms/step - f1_score: 0.9243 - loss: 0.0274 - val_f1_score: 0.8156 - val_loss: 0.1443\n",
      "Epoch 80/100\n",
      "\u001b[1m29/29\u001b[0m \u001b[32m━━━━━━━━━━━━━━━━━━━━\u001b[0m\u001b[37m\u001b[0m \u001b[1m0s\u001b[0m 4ms/step - f1_score: 0.9288 - loss: 0.0282 - val_f1_score: 0.7925 - val_loss: 0.1514\n",
      "Epoch 81/100\n",
      "\u001b[1m29/29\u001b[0m \u001b[32m━━━━━━━━━━━━━━━━━━━━\u001b[0m\u001b[37m\u001b[0m \u001b[1m0s\u001b[0m 5ms/step - f1_score: 0.9185 - loss: 0.0264 - val_f1_score: 0.8279 - val_loss: 0.1429\n",
      "Epoch 82/100\n",
      "\u001b[1m29/29\u001b[0m \u001b[32m━━━━━━━━━━━━━━━━━━━━\u001b[0m\u001b[37m\u001b[0m \u001b[1m0s\u001b[0m 5ms/step - f1_score: 0.9242 - loss: 0.0285 - val_f1_score: 0.8219 - val_loss: 0.1231\n",
      "Epoch 83/100\n",
      "\u001b[1m29/29\u001b[0m \u001b[32m━━━━━━━━━━━━━━━━━━━━\u001b[0m\u001b[37m\u001b[0m \u001b[1m0s\u001b[0m 4ms/step - f1_score: 0.9450 - loss: 0.0160 - val_f1_score: 0.8034 - val_loss: 0.1297\n",
      "Epoch 84/100\n",
      "\u001b[1m29/29\u001b[0m \u001b[32m━━━━━━━━━━━━━━━━━━━━\u001b[0m\u001b[37m\u001b[0m \u001b[1m0s\u001b[0m 4ms/step - f1_score: 0.9442 - loss: 0.0208 - val_f1_score: 0.7762 - val_loss: 0.1428\n",
      "Epoch 85/100\n",
      "\u001b[1m29/29\u001b[0m \u001b[32m━━━━━━━━━━━━━━━━━━━━\u001b[0m\u001b[37m\u001b[0m \u001b[1m0s\u001b[0m 4ms/step - f1_score: 0.9507 - loss: 0.0189 - val_f1_score: 0.8420 - val_loss: 0.1487\n",
      "Epoch 86/100\n",
      "\u001b[1m29/29\u001b[0m \u001b[32m━━━━━━━━━━━━━━━━━━━━\u001b[0m\u001b[37m\u001b[0m \u001b[1m0s\u001b[0m 4ms/step - f1_score: 0.9316 - loss: 0.0240 - val_f1_score: 0.7957 - val_loss: 0.1673\n",
      "Epoch 87/100\n",
      "\u001b[1m29/29\u001b[0m \u001b[32m━━━━━━━━━━━━━━━━━━━━\u001b[0m\u001b[37m\u001b[0m \u001b[1m0s\u001b[0m 4ms/step - f1_score: 0.9409 - loss: 0.0217 - val_f1_score: 0.8437 - val_loss: 0.1459\n",
      "Epoch 88/100\n",
      "\u001b[1m29/29\u001b[0m \u001b[32m━━━━━━━━━━━━━━━━━━━━\u001b[0m\u001b[37m\u001b[0m \u001b[1m0s\u001b[0m 5ms/step - f1_score: 0.9371 - loss: 0.0209 - val_f1_score: 0.8304 - val_loss: 0.1342\n",
      "Epoch 89/100\n",
      "\u001b[1m29/29\u001b[0m \u001b[32m━━━━━━━━━━━━━━━━━━━━\u001b[0m\u001b[37m\u001b[0m \u001b[1m0s\u001b[0m 5ms/step - f1_score: 0.9294 - loss: 0.0232 - val_f1_score: 0.8337 - val_loss: 0.1383\n",
      "Epoch 90/100\n",
      "\u001b[1m29/29\u001b[0m \u001b[32m━━━━━━━━━━━━━━━━━━━━\u001b[0m\u001b[37m\u001b[0m \u001b[1m0s\u001b[0m 5ms/step - f1_score: 0.9355 - loss: 0.0192 - val_f1_score: 0.8203 - val_loss: 0.1682\n",
      "Epoch 91/100\n",
      "\u001b[1m29/29\u001b[0m \u001b[32m━━━━━━━━━━━━━━━━━━━━\u001b[0m\u001b[37m\u001b[0m \u001b[1m0s\u001b[0m 4ms/step - f1_score: 0.9448 - loss: 0.0152 - val_f1_score: 0.8141 - val_loss: 0.1442\n",
      "Epoch 92/100\n",
      "\u001b[1m29/29\u001b[0m \u001b[32m━━━━━━━━━━━━━━━━━━━━\u001b[0m\u001b[37m\u001b[0m \u001b[1m0s\u001b[0m 5ms/step - f1_score: 0.9533 - loss: 0.0131 - val_f1_score: 0.8082 - val_loss: 0.1633\n",
      "Epoch 92: early stopping\n",
      "Restoring model weights from the end of the best epoch: 72.\n"
     ]
    },
    {
     "data": {
      "text/plain": [
       "<keras.src.callbacks.history.History at 0x7379df77da10>"
      ]
     },
     "execution_count": 11,
     "metadata": {},
     "output_type": "execute_result"
    }
   ],
   "source": [
    "model1.compile(optimizer='adam', metrics=[F1Score(average='macro', name='f1_score')], loss='categorical_focal_crossentropy')\n",
    "model1.fit(X_train, y_train, epochs=100, validation_split=0.1, callbacks=[stop_early(20)])"
   ]
  },
  {
   "cell_type": "code",
   "execution_count": 12,
   "metadata": {},
   "outputs": [
    {
     "data": {
      "text/plain": [
       "[<matplotlib.lines.Line2D at 0x7379a070a5d0>]"
      ]
     },
     "execution_count": 12,
     "metadata": {},
     "output_type": "execute_result"
    },
    {
     "data": {
      "image/png": "[encoded data removed]",
      "text/plain": [
       "<Figure size 640x480 with 1 Axes>"
      ]
     },
     "metadata": {},
     "output_type": "display_data"
    }
   ],
   "source": [
    "vf1_arr = model1.history.history['val_f1_score']\n",
    "f1_arr = model1.history.history['f1_score']\n",
    "plt.plot(range(len(vf1_arr)),vf1_arr)\n",
    "plt.plot(range(len(f1_arr)),f1_arr)\n"
   ]
  },
  {
   "cell_type": "code",
   "execution_count": 13,
   "metadata": {},
   "outputs": [
    {
     "name": "stdout",
     "output_type": "stream",
     "text": [
      "\u001b[1m11/11\u001b[0m \u001b[32m━━━━━━━━━━━━━━━━━━━━\u001b[0m\u001b[37m\u001b[0m \u001b[1m0s\u001b[0m 15ms/step\n"
     ]
    }
   ],
   "source": [
    "y_res = model1.predict(X_test)"
   ]
  },
  {
   "cell_type": "code",
   "execution_count": 14,
   "metadata": {},
   "outputs": [],
   "source": [
    "def get_highest_threshold(testX, model):\n",
    "    y_pred = model.predict(testX)\n",
    "    y_res = np.argmax(y_pred, axis=1)\n",
    "    max_threshold = 0\n",
    "    nb_false = {}\n",
    "    for threshold in np.linspace(0.001,0.999,10000):\n",
    "        y_threshold = np.argmax((y_pred > threshold).astype(int), axis=1)\n",
    "        comparison = [a == b for a,b in zip(y_threshold, y_res)]\n",
    "        nb_false[threshold] = comparison.count(False) / y_res.shape[0]\n",
    "        # if all(comparison) and max_threshold < threshold:\n",
    "        #     max_threshold = threshold\n",
    "    return nb_false"
   ]
  },
  {
   "cell_type": "code",
   "execution_count": 15,
   "metadata": {},
   "outputs": [
    {
     "name": "stdout",
     "output_type": "stream",
     "text": [
      "\u001b[1m11/11\u001b[0m \u001b[32m━━━━━━━━━━━━━━━━━━━━\u001b[0m\u001b[37m\u001b[0m \u001b[1m0s\u001b[0m 2ms/step \n"
     ]
    }
   ],
   "source": [
    "seuil_maximal = get_highest_threshold(X_test, model=model1)"
   ]
  },
  {
   "cell_type": "code",
   "execution_count": 16,
   "metadata": {},
   "outputs": [
    {
     "data": {
      "text/plain": [
       "<matplotlib.collections.LineCollection at 0x7379d4f1bc50>"
      ]
     },
     "execution_count": 16,
     "metadata": {},
     "output_type": "execute_result"
    },
    {
     "data": {
      "image/png": "[encoded data removed]",
      "text/plain": [
       "<Figure size 640x480 with 1 Axes>"
      ]
     },
     "metadata": {},
     "output_type": "display_data"
    }
   ],
   "source": [
    "plt.plot(seuil_maximal.keys(), seuil_maximal.values())\n",
    "plt.hlines(y=0.1, xmin=-0.05, xmax=1.05)\n",
    "plt.hlines(y=0.05, xmin=-0.05, xmax=1.05)"
   ]
  },
  {
   "cell_type": "code",
   "execution_count": 17,
   "metadata": {},
   "outputs": [],
   "source": [
    "df_no_poses = pd.read_csv(filepath_or_buffer='training_data/pose_landmarks_per_pose.csv').drop('Frame', axis=1)"
   ]
  },
  {
   "cell_type": "code",
   "execution_count": 18,
   "metadata": {},
   "outputs": [
    {
     "name": "stdout",
     "output_type": "stream",
     "text": [
      "<class 'pandas.core.frame.DataFrame'>\n",
      "RangeIndex: 719 entries, 0 to 718\n",
      "Data columns (total 99 columns):\n",
      " #   Column            Non-Null Count  Dtype  \n",
      "---  ------            --------------  -----  \n",
      " 0   Nose_X            719 non-null    float64\n",
      " 1   Nose_Y            719 non-null    float64\n",
      " 2   Nose_Z            719 non-null    float64\n",
      " 3   LeftEyeInner_X    719 non-null    float64\n",
      " 4   LeftEyeInner_Y    719 non-null    float64\n",
      " 5   LeftEyeInner_Z    719 non-null    float64\n",
      " 6   LeftEye_X         719 non-null    float64\n",
      " 7   LeftEye_Y         719 non-null    float64\n",
      " 8   LeftEye_Z         719 non-null    float64\n",
      " 9   LeftEyeOuter_X    719 non-null    float64\n",
      " 10  LeftEyeOuter_Y    719 non-null    float64\n",
      " 11  LeftEyeOuter_Z    719 non-null    float64\n",
      " 12  RightEyeInner_X   719 non-null    float64\n",
      " 13  RightEyeInner_Y   719 non-null    float64\n",
      " 14  RightEyeInner_Z   719 non-null    float64\n",
      " 15  RightEye_X        719 non-null    float64\n",
      " 16  RightEye_Y        719 non-null    float64\n",
      " 17  RightEye_Z        719 non-null    float64\n",
      " 18  RightEyeOuter_X   719 non-null    float64\n",
      " 19  RightEyeOuter_Y   719 non-null    float64\n",
      " 20  RightEyeOuter_Z   719 non-null    float64\n",
      " 21  LeftEar_X         719 non-null    float64\n",
      " 22  LeftEar_Y         719 non-null    float64\n",
      " 23  LeftEar_Z         719 non-null    float64\n",
      " 24  RightEar_X        719 non-null    float64\n",
      " 25  RightEar_Y        719 non-null    float64\n",
      " 26  RightEar_Z        719 non-null    float64\n",
      " 27  MouthLeft_X       719 non-null    float64\n",
      " 28  MouthLeft_Y       719 non-null    float64\n",
      " 29  MouthLeft_Z       719 non-null    float64\n",
      " 30  MouthRight_X      719 non-null    float64\n",
      " 31  MouthRight_Y      719 non-null    float64\n",
      " 32  MouthRight_Z      719 non-null    float64\n",
      " 33  LeftShoulder_X    719 non-null    float64\n",
      " 34  LeftShoulder_Y    719 non-null    float64\n",
      " 35  LeftShoulder_Z    719 non-null    float64\n",
      " 36  RightShoulder_X   719 non-null    float64\n",
      " 37  RightShoulder_Y   719 non-null    float64\n",
      " 38  RightShoulder_Z   719 non-null    float64\n",
      " 39  LeftElbow_X       719 non-null    float64\n",
      " 40  LeftElbow_Y       719 non-null    float64\n",
      " 41  LeftElbow_Z       719 non-null    float64\n",
      " 42  RightElbow_X      719 non-null    float64\n",
      " 43  RightElbow_Y      719 non-null    float64\n",
      " 44  RightElbow_Z      719 non-null    float64\n",
      " 45  LeftWrist_X       719 non-null    float64\n",
      " 46  LeftWrist_Y       719 non-null    float64\n",
      " 47  LeftWrist_Z       719 non-null    float64\n",
      " 48  RightWrist_X      719 non-null    float64\n",
      " 49  RightWrist_Y      719 non-null    float64\n",
      " 50  RightWrist_Z      719 non-null    float64\n",
      " 51  LeftPinky_X       719 non-null    float64\n",
      " 52  LeftPinky_Y       719 non-null    float64\n",
      " 53  LeftPinky_Z       719 non-null    float64\n",
      " 54  RightPinky_X      719 non-null    float64\n",
      " 55  RightPinky_Y      719 non-null    float64\n",
      " 56  RightPinky_Z      719 non-null    float64\n",
      " 57  LeftIndex_X       719 non-null    float64\n",
      " 58  LeftIndex_Y       719 non-null    float64\n",
      " 59  LeftIndex_Z       719 non-null    float64\n",
      " 60  RightIndex_X      719 non-null    float64\n",
      " 61  RightIndex_Y      719 non-null    float64\n",
      " 62  RightIndex_Z      719 non-null    float64\n",
      " 63  LeftThumb_X       719 non-null    float64\n",
      " 64  LeftThumb_Y       719 non-null    float64\n",
      " 65  LeftThumb_Z       719 non-null    float64\n",
      " 66  RightThumb_X      719 non-null    float64\n",
      " 67  RightThumb_Y      719 non-null    float64\n",
      " 68  RightThumb_Z      719 non-null    float64\n",
      " 69  LeftHip_X         719 non-null    float64\n",
      " 70  LeftHip_Y         719 non-null    float64\n",
      " 71  LeftHip_Z         719 non-null    float64\n",
      " 72  RightHip_X        719 non-null    float64\n",
      " 73  RightHip_Y        719 non-null    float64\n",
      " 74  RightHip_Z        719 non-null    float64\n",
      " 75  LeftKnee_X        719 non-null    float64\n",
      " 76  LeftKnee_Y        719 non-null    float64\n",
      " 77  LeftKnee_Z        719 non-null    float64\n",
      " 78  RightKnee_X       719 non-null    float64\n",
      " 79  RightKnee_Y       719 non-null    float64\n",
      " 80  RightKnee_Z       719 non-null    float64\n",
      " 81  LeftAnkle_X       719 non-null    float64\n",
      " 82  LeftAnkle_Y       719 non-null    float64\n",
      " 83  LeftAnkle_Z       719 non-null    float64\n",
      " 84  RightAnkle_X      719 non-null    float64\n",
      " 85  RightAnkle_Y      719 non-null    float64\n",
      " 86  RightAnkle_Z      719 non-null    float64\n",
      " 87  LeftHeel_X        719 non-null    float64\n",
      " 88  LeftHeel_Y        719 non-null    float64\n",
      " 89  LeftHeel_Z        719 non-null    float64\n",
      " 90  RightHeel_X       719 non-null    float64\n",
      " 91  RightHeel_Y       719 non-null    float64\n",
      " 92  RightHeel_Z       719 non-null    float64\n",
      " 93  LeftFootIndex_X   719 non-null    float64\n",
      " 94  LeftFootIndex_Y   719 non-null    float64\n",
      " 95  LeftFootIndex_Z   719 non-null    float64\n",
      " 96  RightFootIndex_X  719 non-null    float64\n",
      " 97  RightFootIndex_Y  719 non-null    float64\n",
      " 98  RightFootIndex_Z  719 non-null    float64\n",
      "dtypes: float64(99)\n",
      "memory usage: 556.2 KB\n"
     ]
    }
   ],
   "source": [
    "df_no_poses.info()"
   ]
  },
  {
   "cell_type": "code",
   "execution_count": 19,
   "metadata": {},
   "outputs": [],
   "source": [
    "df_no_poses['pose'] = 'no_pose'\n",
    "no_pose_labels = df_no_poses.pose\n",
    "df_no_poses=df_no_poses.drop('pose', axis=1)"
   ]
  },
  {
   "cell_type": "code",
   "execution_count": 20,
   "metadata": {},
   "outputs": [],
   "source": [
    "df_no_poses.columns = df_features.columns\n",
    "df_features = pd.concat([df_features, df_no_poses], axis=0).reset_index(drop=True)"
   ]
  },
  {
   "cell_type": "code",
   "execution_count": 21,
   "metadata": {},
   "outputs": [],
   "source": [
    "df_labels = pd.concat([df_labels, no_pose_labels], axis=0).reset_index(drop=True)"
   ]
  },
  {
   "cell_type": "code",
   "execution_count": 22,
   "metadata": {},
   "outputs": [
    {
     "data": {
      "text/html": [
       "<div>\n",
       "<style scoped>\n",
       "    .dataframe tbody tr th:only-of-type {\n",
       "        vertical-align: middle;\n",
       "    }\n",
       "\n",
       "    .dataframe tbody tr th {\n",
       "        vertical-align: top;\n",
       "    }\n",
       "\n",
       "    .dataframe thead th {\n",
       "        text-align: right;\n",
       "    }\n",
       "</style>\n",
       "<table border=\"1\" class=\"dataframe\">\n",
       "  <thead>\n",
       "    <tr style=\"text-align: right;\">\n",
       "      <th></th>\n",
       "      <th>pose</th>\n",
       "    </tr>\n",
       "  </thead>\n",
       "  <tbody>\n",
       "    <tr>\n",
       "      <th>0</th>\n",
       "      <td>jumping_jacks_down</td>\n",
       "    </tr>\n",
       "    <tr>\n",
       "      <th>1</th>\n",
       "      <td>jumping_jacks_down</td>\n",
       "    </tr>\n",
       "    <tr>\n",
       "      <th>2</th>\n",
       "      <td>jumping_jacks_down</td>\n",
       "    </tr>\n",
       "    <tr>\n",
       "      <th>3</th>\n",
       "      <td>jumping_jacks_down</td>\n",
       "    </tr>\n",
       "    <tr>\n",
       "      <th>4</th>\n",
       "      <td>jumping_jacks_down</td>\n",
       "    </tr>\n",
       "    <tr>\n",
       "      <th>...</th>\n",
       "      <td>...</td>\n",
       "    </tr>\n",
       "    <tr>\n",
       "      <th>2086</th>\n",
       "      <td>no_pose</td>\n",
       "    </tr>\n",
       "    <tr>\n",
       "      <th>2087</th>\n",
       "      <td>no_pose</td>\n",
       "    </tr>\n",
       "    <tr>\n",
       "      <th>2088</th>\n",
       "      <td>no_pose</td>\n",
       "    </tr>\n",
       "    <tr>\n",
       "      <th>2089</th>\n",
       "      <td>no_pose</td>\n",
       "    </tr>\n",
       "    <tr>\n",
       "      <th>2090</th>\n",
       "      <td>no_pose</td>\n",
       "    </tr>\n",
       "  </tbody>\n",
       "</table>\n",
       "<p>2091 rows × 1 columns</p>\n",
       "</div>"
      ],
      "text/plain": [
       "                    pose\n",
       "0     jumping_jacks_down\n",
       "1     jumping_jacks_down\n",
       "2     jumping_jacks_down\n",
       "3     jumping_jacks_down\n",
       "4     jumping_jacks_down\n",
       "...                  ...\n",
       "2086             no_pose\n",
       "2087             no_pose\n",
       "2088             no_pose\n",
       "2089             no_pose\n",
       "2090             no_pose\n",
       "\n",
       "[2091 rows x 1 columns]"
      ]
     },
     "execution_count": 22,
     "metadata": {},
     "output_type": "execute_result"
    }
   ],
   "source": [
    "df_labels"
   ]
  },
  {
   "cell_type": "code",
   "execution_count": 23,
   "metadata": {},
   "outputs": [],
   "source": [
    "X = df_features.values\n",
    "y = pd.get_dummies(df_labels, dtype=int).values"
   ]
  },
  {
   "cell_type": "code",
   "execution_count": null,
   "metadata": {},
   "outputs": [
    {
     "data": {
      "text/plain": [
       "(2091, 11)"
      ]
     },
     "execution_count": 29,
     "metadata": {},
     "output_type": "execute_result"
    }
   ],
   "source": []
  },
  {
   "cell_type": "code",
   "execution_count": 24,
   "metadata": {},
   "outputs": [],
   "source": [
    "X_train, X_test, y_train, y_test = train_test_split(X, y, random_state=38, stratify=y)\n",
    "scaler = StandardScaler()\n",
    "X_train = scaler.fit_transform(X_train)\n",
    "X_test = scaler.transform(X_test)"
   ]
  },
  {
   "cell_type": "code",
   "execution_count": 25,
   "metadata": {},
   "outputs": [
    {
     "data": {
      "text/html": [
       "<pre style=\"white-space:pre;overflow-x:auto;line-height:normal;font-family:Menlo,'DejaVu Sans Mono',consolas,'Courier New',monospace\"><span style=\"font-weight: bold\">Model: \"sequential_1\"</span>\n",
       "</pre>\n"
      ],
      "text/plain": [
       "\u001b[1mModel: \"sequential_1\"\u001b[0m\n"
      ]
     },
     "metadata": {},
     "output_type": "display_data"
    },
    {
     "data": {
      "text/html": [
       "<pre style=\"white-space:pre;overflow-x:auto;line-height:normal;font-family:Menlo,'DejaVu Sans Mono',consolas,'Courier New',monospace\">┏━━━━━━━━━━━━━━━━━━━━━━━━━━━━━━━━━┳━━━━━━━━━━━━━━━━━━━━━━━━┳━━━━━━━━━━━━━━━┓\n",
       "┃<span style=\"font-weight: bold\"> Layer (type)                    </span>┃<span style=\"font-weight: bold\"> Output Shape           </span>┃<span style=\"font-weight: bold\">       Param # </span>┃\n",
       "┡━━━━━━━━━━━━━━━━━━━━━━━━━━━━━━━━━╇━━━━━━━━━━━━━━━━━━━━━━━━╇━━━━━━━━━━━━━━━┩\n",
       "│ dense_9 (<span style=\"color: #0087ff; text-decoration-color: #0087ff\">Dense</span>)                 │ (<span style=\"color: #00d7ff; text-decoration-color: #00d7ff\">None</span>, <span style=\"color: #00af00; text-decoration-color: #00af00\">64</span>)             │         <span style=\"color: #00af00; text-decoration-color: #00af00\">6,400</span> │\n",
       "├─────────────────────────────────┼────────────────────────┼───────────────┤\n",
       "│ dense_10 (<span style=\"color: #0087ff; text-decoration-color: #0087ff\">Dense</span>)                │ (<span style=\"color: #00d7ff; text-decoration-color: #00d7ff\">None</span>, <span style=\"color: #00af00; text-decoration-color: #00af00\">64</span>)             │         <span style=\"color: #00af00; text-decoration-color: #00af00\">4,160</span> │\n",
       "├─────────────────────────────────┼────────────────────────┼───────────────┤\n",
       "│ dense_11 (<span style=\"color: #0087ff; text-decoration-color: #0087ff\">Dense</span>)                │ (<span style=\"color: #00d7ff; text-decoration-color: #00d7ff\">None</span>, <span style=\"color: #00af00; text-decoration-color: #00af00\">64</span>)             │         <span style=\"color: #00af00; text-decoration-color: #00af00\">4,160</span> │\n",
       "├─────────────────────────────────┼────────────────────────┼───────────────┤\n",
       "│ dense_12 (<span style=\"color: #0087ff; text-decoration-color: #0087ff\">Dense</span>)                │ (<span style=\"color: #00d7ff; text-decoration-color: #00d7ff\">None</span>, <span style=\"color: #00af00; text-decoration-color: #00af00\">64</span>)             │         <span style=\"color: #00af00; text-decoration-color: #00af00\">4,160</span> │\n",
       "├─────────────────────────────────┼────────────────────────┼───────────────┤\n",
       "│ batch_normalization_2           │ (<span style=\"color: #00d7ff; text-decoration-color: #00d7ff\">None</span>, <span style=\"color: #00af00; text-decoration-color: #00af00\">64</span>)             │           <span style=\"color: #00af00; text-decoration-color: #00af00\">256</span> │\n",
       "│ (<span style=\"color: #0087ff; text-decoration-color: #0087ff\">BatchNormalization</span>)            │                        │               │\n",
       "├─────────────────────────────────┼────────────────────────┼───────────────┤\n",
       "│ dropout_2 (<span style=\"color: #0087ff; text-decoration-color: #0087ff\">Dropout</span>)             │ (<span style=\"color: #00d7ff; text-decoration-color: #00d7ff\">None</span>, <span style=\"color: #00af00; text-decoration-color: #00af00\">64</span>)             │             <span style=\"color: #00af00; text-decoration-color: #00af00\">0</span> │\n",
       "├─────────────────────────────────┼────────────────────────┼───────────────┤\n",
       "│ dense_13 (<span style=\"color: #0087ff; text-decoration-color: #0087ff\">Dense</span>)                │ (<span style=\"color: #00d7ff; text-decoration-color: #00d7ff\">None</span>, <span style=\"color: #00af00; text-decoration-color: #00af00\">64</span>)             │         <span style=\"color: #00af00; text-decoration-color: #00af00\">4,160</span> │\n",
       "├─────────────────────────────────┼────────────────────────┼───────────────┤\n",
       "│ dense_14 (<span style=\"color: #0087ff; text-decoration-color: #0087ff\">Dense</span>)                │ (<span style=\"color: #00d7ff; text-decoration-color: #00d7ff\">None</span>, <span style=\"color: #00af00; text-decoration-color: #00af00\">64</span>)             │         <span style=\"color: #00af00; text-decoration-color: #00af00\">4,160</span> │\n",
       "├─────────────────────────────────┼────────────────────────┼───────────────┤\n",
       "│ dense_15 (<span style=\"color: #0087ff; text-decoration-color: #0087ff\">Dense</span>)                │ (<span style=\"color: #00d7ff; text-decoration-color: #00d7ff\">None</span>, <span style=\"color: #00af00; text-decoration-color: #00af00\">64</span>)             │         <span style=\"color: #00af00; text-decoration-color: #00af00\">4,160</span> │\n",
       "├─────────────────────────────────┼────────────────────────┼───────────────┤\n",
       "│ dense_16 (<span style=\"color: #0087ff; text-decoration-color: #0087ff\">Dense</span>)                │ (<span style=\"color: #00d7ff; text-decoration-color: #00d7ff\">None</span>, <span style=\"color: #00af00; text-decoration-color: #00af00\">64</span>)             │         <span style=\"color: #00af00; text-decoration-color: #00af00\">4,160</span> │\n",
       "├─────────────────────────────────┼────────────────────────┼───────────────┤\n",
       "│ batch_normalization_3           │ (<span style=\"color: #00d7ff; text-decoration-color: #00d7ff\">None</span>, <span style=\"color: #00af00; text-decoration-color: #00af00\">64</span>)             │           <span style=\"color: #00af00; text-decoration-color: #00af00\">256</span> │\n",
       "│ (<span style=\"color: #0087ff; text-decoration-color: #0087ff\">BatchNormalization</span>)            │                        │               │\n",
       "├─────────────────────────────────┼────────────────────────┼───────────────┤\n",
       "│ dropout_3 (<span style=\"color: #0087ff; text-decoration-color: #0087ff\">Dropout</span>)             │ (<span style=\"color: #00d7ff; text-decoration-color: #00d7ff\">None</span>, <span style=\"color: #00af00; text-decoration-color: #00af00\">64</span>)             │             <span style=\"color: #00af00; text-decoration-color: #00af00\">0</span> │\n",
       "├─────────────────────────────────┼────────────────────────┼───────────────┤\n",
       "│ dense_17 (<span style=\"color: #0087ff; text-decoration-color: #0087ff\">Dense</span>)                │ (<span style=\"color: #00d7ff; text-decoration-color: #00d7ff\">None</span>, <span style=\"color: #00af00; text-decoration-color: #00af00\">11</span>)             │           <span style=\"color: #00af00; text-decoration-color: #00af00\">715</span> │\n",
       "└─────────────────────────────────┴────────────────────────┴───────────────┘\n",
       "</pre>\n"
      ],
      "text/plain": [
       "┏━━━━━━━━━━━━━━━━━━━━━━━━━━━━━━━━━┳━━━━━━━━━━━━━━━━━━━━━━━━┳━━━━━━━━━━━━━━━┓\n",
       "┃\u001b[1m \u001b[0m\u001b[1mLayer (type)                   \u001b[0m\u001b[1m \u001b[0m┃\u001b[1m \u001b[0m\u001b[1mOutput Shape          \u001b[0m\u001b[1m \u001b[0m┃\u001b[1m \u001b[0m\u001b[1m      Param #\u001b[0m\u001b[1m \u001b[0m┃\n",
       "┡━━━━━━━━━━━━━━━━━━━━━━━━━━━━━━━━━╇━━━━━━━━━━━━━━━━━━━━━━━━╇━━━━━━━━━━━━━━━┩\n",
       "│ dense_9 (\u001b[38;5;33mDense\u001b[0m)                 │ (\u001b[38;5;45mNone\u001b[0m, \u001b[38;5;34m64\u001b[0m)             │         \u001b[38;5;34m6,400\u001b[0m │\n",
       "├─────────────────────────────────┼────────────────────────┼───────────────┤\n",
       "│ dense_10 (\u001b[38;5;33mDense\u001b[0m)                │ (\u001b[38;5;45mNone\u001b[0m, \u001b[38;5;34m64\u001b[0m)             │         \u001b[38;5;34m4,160\u001b[0m │\n",
       "├─────────────────────────────────┼────────────────────────┼───────────────┤\n",
       "│ dense_11 (\u001b[38;5;33mDense\u001b[0m)                │ (\u001b[38;5;45mNone\u001b[0m, \u001b[38;5;34m64\u001b[0m)             │         \u001b[38;5;34m4,160\u001b[0m │\n",
       "├─────────────────────────────────┼────────────────────────┼───────────────┤\n",
       "│ dense_12 (\u001b[38;5;33mDense\u001b[0m)                │ (\u001b[38;5;45mNone\u001b[0m, \u001b[38;5;34m64\u001b[0m)             │         \u001b[38;5;34m4,160\u001b[0m │\n",
       "├─────────────────────────────────┼────────────────────────┼───────────────┤\n",
       "│ batch_normalization_2           │ (\u001b[38;5;45mNone\u001b[0m, \u001b[38;5;34m64\u001b[0m)             │           \u001b[38;5;34m256\u001b[0m │\n",
       "│ (\u001b[38;5;33mBatchNormalization\u001b[0m)            │                        │               │\n",
       "├─────────────────────────────────┼────────────────────────┼───────────────┤\n",
       "│ dropout_2 (\u001b[38;5;33mDropout\u001b[0m)             │ (\u001b[38;5;45mNone\u001b[0m, \u001b[38;5;34m64\u001b[0m)             │             \u001b[38;5;34m0\u001b[0m │\n",
       "├─────────────────────────────────┼────────────────────────┼───────────────┤\n",
       "│ dense_13 (\u001b[38;5;33mDense\u001b[0m)                │ (\u001b[38;5;45mNone\u001b[0m, \u001b[38;5;34m64\u001b[0m)             │         \u001b[38;5;34m4,160\u001b[0m │\n",
       "├─────────────────────────────────┼────────────────────────┼───────────────┤\n",
       "│ dense_14 (\u001b[38;5;33mDense\u001b[0m)                │ (\u001b[38;5;45mNone\u001b[0m, \u001b[38;5;34m64\u001b[0m)             │         \u001b[38;5;34m4,160\u001b[0m │\n",
       "├─────────────────────────────────┼────────────────────────┼───────────────┤\n",
       "│ dense_15 (\u001b[38;5;33mDense\u001b[0m)                │ (\u001b[38;5;45mNone\u001b[0m, \u001b[38;5;34m64\u001b[0m)             │         \u001b[38;5;34m4,160\u001b[0m │\n",
       "├─────────────────────────────────┼────────────────────────┼───────────────┤\n",
       "│ dense_16 (\u001b[38;5;33mDense\u001b[0m)                │ (\u001b[38;5;45mNone\u001b[0m, \u001b[38;5;34m64\u001b[0m)             │         \u001b[38;5;34m4,160\u001b[0m │\n",
       "├─────────────────────────────────┼────────────────────────┼───────────────┤\n",
       "│ batch_normalization_3           │ (\u001b[38;5;45mNone\u001b[0m, \u001b[38;5;34m64\u001b[0m)             │           \u001b[38;5;34m256\u001b[0m │\n",
       "│ (\u001b[38;5;33mBatchNormalization\u001b[0m)            │                        │               │\n",
       "├─────────────────────────────────┼────────────────────────┼───────────────┤\n",
       "│ dropout_3 (\u001b[38;5;33mDropout\u001b[0m)             │ (\u001b[38;5;45mNone\u001b[0m, \u001b[38;5;34m64\u001b[0m)             │             \u001b[38;5;34m0\u001b[0m │\n",
       "├─────────────────────────────────┼────────────────────────┼───────────────┤\n",
       "│ dense_17 (\u001b[38;5;33mDense\u001b[0m)                │ (\u001b[38;5;45mNone\u001b[0m, \u001b[38;5;34m11\u001b[0m)             │           \u001b[38;5;34m715\u001b[0m │\n",
       "└─────────────────────────────────┴────────────────────────┴───────────────┘\n"
      ]
     },
     "metadata": {},
     "output_type": "display_data"
    },
    {
     "data": {
      "text/html": [
       "<pre style=\"white-space:pre;overflow-x:auto;line-height:normal;font-family:Menlo,'DejaVu Sans Mono',consolas,'Courier New',monospace\"><span style=\"font-weight: bold\"> Total params: </span><span style=\"color: #00af00; text-decoration-color: #00af00\">36,747</span> (143.54 KB)\n",
       "</pre>\n"
      ],
      "text/plain": [
       "\u001b[1m Total params: \u001b[0m\u001b[38;5;34m36,747\u001b[0m (143.54 KB)\n"
      ]
     },
     "metadata": {},
     "output_type": "display_data"
    },
    {
     "data": {
      "text/html": [
       "<pre style=\"white-space:pre;overflow-x:auto;line-height:normal;font-family:Menlo,'DejaVu Sans Mono',consolas,'Courier New',monospace\"><span style=\"font-weight: bold\"> Trainable params: </span><span style=\"color: #00af00; text-decoration-color: #00af00\">36,491</span> (142.54 KB)\n",
       "</pre>\n"
      ],
      "text/plain": [
       "\u001b[1m Trainable params: \u001b[0m\u001b[38;5;34m36,491\u001b[0m (142.54 KB)\n"
      ]
     },
     "metadata": {},
     "output_type": "display_data"
    },
    {
     "data": {
      "text/html": [
       "<pre style=\"white-space:pre;overflow-x:auto;line-height:normal;font-family:Menlo,'DejaVu Sans Mono',consolas,'Courier New',monospace\"><span style=\"font-weight: bold\"> Non-trainable params: </span><span style=\"color: #00af00; text-decoration-color: #00af00\">256</span> (1.00 KB)\n",
       "</pre>\n"
      ],
      "text/plain": [
       "\u001b[1m Non-trainable params: \u001b[0m\u001b[38;5;34m256\u001b[0m (1.00 KB)\n"
      ]
     },
     "metadata": {},
     "output_type": "display_data"
    }
   ],
   "source": [
    "model2 = get_model(99, 64, 0.2, 0.2, 11)"
   ]
  },
  {
   "cell_type": "code",
   "execution_count": 26,
   "metadata": {},
   "outputs": [
    {
     "name": "stdout",
     "output_type": "stream",
     "text": [
      "Epoch 1/100\n",
      "\u001b[1m45/45\u001b[0m \u001b[32m━━━━━━━━━━━━━━━━━━━━\u001b[0m\u001b[37m\u001b[0m \u001b[1m4s\u001b[0m 10ms/step - f1_score: 0.2195 - loss: 0.4497 - val_f1_score: 0.2915 - val_loss: 0.4265\n",
      "Epoch 2/100\n",
      "\u001b[1m45/45\u001b[0m \u001b[32m━━━━━━━━━━━━━━━━━━━━\u001b[0m\u001b[37m\u001b[0m \u001b[1m0s\u001b[0m 4ms/step - f1_score: 0.5124 - loss: 0.1818 - val_f1_score: 0.4559 - val_loss: 0.3502\n",
      "Epoch 3/100\n",
      "\u001b[1m45/45\u001b[0m \u001b[32m━━━━━━━━━━━━━━━━━━━━\u001b[0m\u001b[37m\u001b[0m \u001b[1m0s\u001b[0m 4ms/step - f1_score: 0.5594 - loss: 0.1365 - val_f1_score: 0.5831 - val_loss: 0.2500\n",
      "Epoch 4/100\n",
      "\u001b[1m45/45\u001b[0m \u001b[32m━━━━━━━━━━━━━━━━━━━━\u001b[0m\u001b[37m\u001b[0m \u001b[1m0s\u001b[0m 4ms/step - f1_score: 0.6709 - loss: 0.1065 - val_f1_score: 0.6241 - val_loss: 0.1812\n",
      "Epoch 5/100\n",
      "\u001b[1m45/45\u001b[0m \u001b[32m━━━━━━━━━━━━━━━━━━━━\u001b[0m\u001b[37m\u001b[0m \u001b[1m0s\u001b[0m 4ms/step - f1_score: 0.6674 - loss: 0.0991 - val_f1_score: 0.6213 - val_loss: 0.1236\n",
      "Epoch 6/100\n",
      "\u001b[1m45/45\u001b[0m \u001b[32m━━━━━━━━━━━━━━━━━━━━\u001b[0m\u001b[37m\u001b[0m \u001b[1m0s\u001b[0m 4ms/step - f1_score: 0.6593 - loss: 0.0953 - val_f1_score: 0.6333 - val_loss: 0.1001\n",
      "Epoch 7/100\n",
      "\u001b[1m45/45\u001b[0m \u001b[32m━━━━━━━━━━━━━━━━━━━━\u001b[0m\u001b[37m\u001b[0m \u001b[1m0s\u001b[0m 4ms/step - f1_score: 0.6820 - loss: 0.0879 - val_f1_score: 0.6551 - val_loss: 0.0805\n",
      "Epoch 8/100\n",
      "\u001b[1m45/45\u001b[0m \u001b[32m━━━━━━━━━━━━━━━━━━━━\u001b[0m\u001b[37m\u001b[0m \u001b[1m0s\u001b[0m 4ms/step - f1_score: 0.7129 - loss: 0.0798 - val_f1_score: 0.6989 - val_loss: 0.0734\n",
      "Epoch 9/100\n",
      "\u001b[1m45/45\u001b[0m \u001b[32m━━━━━━━━━━━━━━━━━━━━\u001b[0m\u001b[37m\u001b[0m \u001b[1m0s\u001b[0m 4ms/step - f1_score: 0.6853 - loss: 0.0766 - val_f1_score: 0.7209 - val_loss: 0.0715\n",
      "Epoch 10/100\n",
      "\u001b[1m45/45\u001b[0m \u001b[32m━━━━━━━━━━━━━━━━━━━━\u001b[0m\u001b[37m\u001b[0m \u001b[1m0s\u001b[0m 4ms/step - f1_score: 0.7092 - loss: 0.0724 - val_f1_score: 0.6905 - val_loss: 0.0635\n",
      "Epoch 11/100\n",
      "\u001b[1m45/45\u001b[0m \u001b[32m━━━━━━━━━━━━━━━━━━━━\u001b[0m\u001b[37m\u001b[0m \u001b[1m0s\u001b[0m 4ms/step - f1_score: 0.7044 - loss: 0.0760 - val_f1_score: 0.7196 - val_loss: 0.0573\n",
      "Epoch 12/100\n",
      "\u001b[1m45/45\u001b[0m \u001b[32m━━━━━━━━━━━━━━━━━━━━\u001b[0m\u001b[37m\u001b[0m \u001b[1m0s\u001b[0m 4ms/step - f1_score: 0.7724 - loss: 0.0626 - val_f1_score: 0.7639 - val_loss: 0.0609\n",
      "Epoch 13/100\n",
      "\u001b[1m45/45\u001b[0m \u001b[32m━━━━━━━━━━━━━━━━━━━━\u001b[0m\u001b[37m\u001b[0m \u001b[1m0s\u001b[0m 4ms/step - f1_score: 0.7588 - loss: 0.0644 - val_f1_score: 0.7308 - val_loss: 0.0464\n",
      "Epoch 14/100\n",
      "\u001b[1m45/45\u001b[0m \u001b[32m━━━━━━━━━━━━━━━━━━━━\u001b[0m\u001b[37m\u001b[0m \u001b[1m0s\u001b[0m 4ms/step - f1_score: 0.7516 - loss: 0.0566 - val_f1_score: 0.7752 - val_loss: 0.0559\n",
      "Epoch 15/100\n",
      "\u001b[1m45/45\u001b[0m \u001b[32m━━━━━━━━━━━━━━━━━━━━\u001b[0m\u001b[37m\u001b[0m \u001b[1m0s\u001b[0m 4ms/step - f1_score: 0.7781 - loss: 0.0535 - val_f1_score: 0.7717 - val_loss: 0.0530\n",
      "Epoch 16/100\n",
      "\u001b[1m45/45\u001b[0m \u001b[32m━━━━━━━━━━━━━━━━━━━━\u001b[0m\u001b[37m\u001b[0m \u001b[1m0s\u001b[0m 4ms/step - f1_score: 0.8005 - loss: 0.0459 - val_f1_score: 0.8275 - val_loss: 0.0563\n",
      "Epoch 17/100\n",
      "\u001b[1m45/45\u001b[0m \u001b[32m━━━━━━━━━━━━━━━━━━━━\u001b[0m\u001b[37m\u001b[0m \u001b[1m0s\u001b[0m 4ms/step - f1_score: 0.8021 - loss: 0.0505 - val_f1_score: 0.7576 - val_loss: 0.0693\n",
      "Epoch 18/100\n",
      "\u001b[1m45/45\u001b[0m \u001b[32m━━━━━━━━━━━━━━━━━━━━\u001b[0m\u001b[37m\u001b[0m \u001b[1m0s\u001b[0m 4ms/step - f1_score: 0.8396 - loss: 0.0421 - val_f1_score: 0.8005 - val_loss: 0.0538\n",
      "Epoch 19/100\n",
      "\u001b[1m45/45\u001b[0m \u001b[32m━━━━━━━━━━━━━━━━━━━━\u001b[0m\u001b[37m\u001b[0m \u001b[1m0s\u001b[0m 4ms/step - f1_score: 0.7967 - loss: 0.0446 - val_f1_score: 0.8034 - val_loss: 0.0545\n",
      "Epoch 20/100\n",
      "\u001b[1m45/45\u001b[0m \u001b[32m━━━━━━━━━━━━━━━━━━━━\u001b[0m\u001b[37m\u001b[0m \u001b[1m0s\u001b[0m 4ms/step - f1_score: 0.8132 - loss: 0.0492 - val_f1_score: 0.7743 - val_loss: 0.0586\n",
      "Epoch 21/100\n",
      "\u001b[1m45/45\u001b[0m \u001b[32m━━━━━━━━━━━━━━━━━━━━\u001b[0m\u001b[37m\u001b[0m \u001b[1m0s\u001b[0m 4ms/step - f1_score: 0.7583 - loss: 0.0655 - val_f1_score: 0.8217 - val_loss: 0.0534\n",
      "Epoch 22/100\n",
      "\u001b[1m45/45\u001b[0m \u001b[32m━━━━━━━━━━━━━━━━━━━━\u001b[0m\u001b[37m\u001b[0m \u001b[1m0s\u001b[0m 4ms/step - f1_score: 0.8101 - loss: 0.0436 - val_f1_score: 0.7406 - val_loss: 0.0726\n",
      "Epoch 23/100\n",
      "\u001b[1m45/45\u001b[0m \u001b[32m━━━━━━━━━━━━━━━━━━━━\u001b[0m\u001b[37m\u001b[0m \u001b[1m0s\u001b[0m 4ms/step - f1_score: 0.7688 - loss: 0.0543 - val_f1_score: 0.7161 - val_loss: 0.0719\n",
      "Epoch 24/100\n",
      "\u001b[1m45/45\u001b[0m \u001b[32m━━━━━━━━━━━━━━━━━━━━\u001b[0m\u001b[37m\u001b[0m \u001b[1m0s\u001b[0m 4ms/step - f1_score: 0.8179 - loss: 0.0431 - val_f1_score: 0.7779 - val_loss: 0.0592\n",
      "Epoch 25/100\n",
      "\u001b[1m45/45\u001b[0m \u001b[32m━━━━━━━━━━━━━━━━━━━━\u001b[0m\u001b[37m\u001b[0m \u001b[1m0s\u001b[0m 4ms/step - f1_score: 0.8475 - loss: 0.0375 - val_f1_score: 0.7352 - val_loss: 0.0725\n",
      "Epoch 26/100\n",
      "\u001b[1m45/45\u001b[0m \u001b[32m━━━━━━━━━━━━━━━━━━━━\u001b[0m\u001b[37m\u001b[0m \u001b[1m0s\u001b[0m 4ms/step - f1_score: 0.8455 - loss: 0.0358 - val_f1_score: 0.8069 - val_loss: 0.0456\n",
      "Epoch 27/100\n",
      "\u001b[1m45/45\u001b[0m \u001b[32m━━━━━━━━━━━━━━━━━━━━\u001b[0m\u001b[37m\u001b[0m \u001b[1m0s\u001b[0m 4ms/step - f1_score: 0.8660 - loss: 0.0324 - val_f1_score: 0.8240 - val_loss: 0.0476\n",
      "Epoch 28/100\n",
      "\u001b[1m45/45\u001b[0m \u001b[32m━━━━━━━━━━━━━━━━━━━━\u001b[0m\u001b[37m\u001b[0m \u001b[1m0s\u001b[0m 4ms/step - f1_score: 0.8814 - loss: 0.0320 - val_f1_score: 0.7914 - val_loss: 0.0421\n",
      "Epoch 29/100\n",
      "\u001b[1m45/45\u001b[0m \u001b[32m━━━━━━━━━━━━━━━━━━━━\u001b[0m\u001b[37m\u001b[0m \u001b[1m0s\u001b[0m 5ms/step - f1_score: 0.8881 - loss: 0.0286 - val_f1_score: 0.8360 - val_loss: 0.0379\n",
      "Epoch 30/100\n",
      "\u001b[1m45/45\u001b[0m \u001b[32m━━━━━━━━━━━━━━━━━━━━\u001b[0m\u001b[37m\u001b[0m \u001b[1m0s\u001b[0m 4ms/step - f1_score: 0.8636 - loss: 0.0376 - val_f1_score: 0.8143 - val_loss: 0.0556\n",
      "Epoch 31/100\n",
      "\u001b[1m45/45\u001b[0m \u001b[32m━━━━━━━━━━━━━━━━━━━━\u001b[0m\u001b[37m\u001b[0m \u001b[1m0s\u001b[0m 4ms/step - f1_score: 0.8450 - loss: 0.0346 - val_f1_score: 0.8201 - val_loss: 0.0444\n",
      "Epoch 32/100\n",
      "\u001b[1m45/45\u001b[0m \u001b[32m━━━━━━━━━━━━━━━━━━━━\u001b[0m\u001b[37m\u001b[0m \u001b[1m0s\u001b[0m 4ms/step - f1_score: 0.8695 - loss: 0.0350 - val_f1_score: 0.8006 - val_loss: 0.0491\n",
      "Epoch 33/100\n",
      "\u001b[1m45/45\u001b[0m \u001b[32m━━━━━━━━━━━━━━━━━━━━\u001b[0m\u001b[37m\u001b[0m \u001b[1m0s\u001b[0m 4ms/step - f1_score: 0.8769 - loss: 0.0287 - val_f1_score: 0.8065 - val_loss: 0.0444\n",
      "Epoch 34/100\n",
      "\u001b[1m45/45\u001b[0m \u001b[32m━━━━━━━━━━━━━━━━━━━━\u001b[0m\u001b[37m\u001b[0m \u001b[1m0s\u001b[0m 6ms/step - f1_score: 0.8460 - loss: 0.0380 - val_f1_score: 0.8065 - val_loss: 0.0506\n",
      "Epoch 35/100\n",
      "\u001b[1m45/45\u001b[0m \u001b[32m━━━━━━━━━━━━━━━━━━━━\u001b[0m\u001b[37m\u001b[0m \u001b[1m0s\u001b[0m 4ms/step - f1_score: 0.8662 - loss: 0.0281 - val_f1_score: 0.8297 - val_loss: 0.0484\n",
      "Epoch 36/100\n",
      "\u001b[1m45/45\u001b[0m \u001b[32m━━━━━━━━━━━━━━━━━━━━\u001b[0m\u001b[37m\u001b[0m \u001b[1m0s\u001b[0m 4ms/step - f1_score: 0.8505 - loss: 0.0350 - val_f1_score: 0.8267 - val_loss: 0.0604\n",
      "Epoch 37/100\n",
      "\u001b[1m45/45\u001b[0m \u001b[32m━━━━━━━━━━━━━━━━━━━━\u001b[0m\u001b[37m\u001b[0m \u001b[1m0s\u001b[0m 4ms/step - f1_score: 0.8646 - loss: 0.0280 - val_f1_score: 0.8221 - val_loss: 0.0488\n",
      "Epoch 38/100\n",
      "\u001b[1m45/45\u001b[0m \u001b[32m━━━━━━━━━━━━━━━━━━━━\u001b[0m\u001b[37m\u001b[0m \u001b[1m0s\u001b[0m 4ms/step - f1_score: 0.8252 - loss: 0.0486 - val_f1_score: 0.8088 - val_loss: 0.0558\n",
      "Epoch 39/100\n",
      "\u001b[1m45/45\u001b[0m \u001b[32m━━━━━━━━━━━━━━━━━━━━\u001b[0m\u001b[37m\u001b[0m \u001b[1m0s\u001b[0m 4ms/step - f1_score: 0.8476 - loss: 0.0389 - val_f1_score: 0.8175 - val_loss: 0.0638\n",
      "Epoch 40/100\n",
      "\u001b[1m45/45\u001b[0m \u001b[32m━━━━━━━━━━━━━━━━━━━━\u001b[0m\u001b[37m\u001b[0m \u001b[1m0s\u001b[0m 4ms/step - f1_score: 0.9001 - loss: 0.0257 - val_f1_score: 0.8571 - val_loss: 0.0445\n",
      "Epoch 41/100\n",
      "\u001b[1m45/45\u001b[0m \u001b[32m━━━━━━━━━━━━━━━━━━━━\u001b[0m\u001b[37m\u001b[0m \u001b[1m0s\u001b[0m 4ms/step - f1_score: 0.8739 - loss: 0.0302 - val_f1_score: 0.8208 - val_loss: 0.0600\n",
      "Epoch 42/100\n",
      "\u001b[1m45/45\u001b[0m \u001b[32m━━━━━━━━━━━━━━━━━━━━\u001b[0m\u001b[37m\u001b[0m \u001b[1m0s\u001b[0m 4ms/step - f1_score: 0.8819 - loss: 0.0283 - val_f1_score: 0.8027 - val_loss: 0.0626\n",
      "Epoch 43/100\n",
      "\u001b[1m45/45\u001b[0m \u001b[32m━━━━━━━━━━━━━━━━━━━━\u001b[0m\u001b[37m\u001b[0m \u001b[1m0s\u001b[0m 4ms/step - f1_score: 0.8620 - loss: 0.0353 - val_f1_score: 0.8636 - val_loss: 0.0462\n",
      "Epoch 44/100\n",
      "\u001b[1m45/45\u001b[0m \u001b[32m━━━━━━━━━━━━━━━━━━━━\u001b[0m\u001b[37m\u001b[0m \u001b[1m0s\u001b[0m 4ms/step - f1_score: 0.8521 - loss: 0.0383 - val_f1_score: 0.8606 - val_loss: 0.0520\n",
      "Epoch 45/100\n",
      "\u001b[1m45/45\u001b[0m \u001b[32m━━━━━━━━━━━━━━━━━━━━\u001b[0m\u001b[37m\u001b[0m \u001b[1m0s\u001b[0m 4ms/step - f1_score: 0.8730 - loss: 0.0301 - val_f1_score: 0.8135 - val_loss: 0.0418\n",
      "Epoch 46/100\n",
      "\u001b[1m45/45\u001b[0m \u001b[32m━━━━━━━━━━━━━━━━━━━━\u001b[0m\u001b[37m\u001b[0m \u001b[1m0s\u001b[0m 4ms/step - f1_score: 0.8856 - loss: 0.0226 - val_f1_score: 0.8165 - val_loss: 0.0454\n",
      "Epoch 47/100\n",
      "\u001b[1m45/45\u001b[0m \u001b[32m━━━━━━━━━━━━━━━━━━━━\u001b[0m\u001b[37m\u001b[0m \u001b[1m0s\u001b[0m 4ms/step - f1_score: 0.8940 - loss: 0.0262 - val_f1_score: 0.8589 - val_loss: 0.0389\n",
      "Epoch 48/100\n",
      "\u001b[1m45/45\u001b[0m \u001b[32m━━━━━━━━━━━━━━━━━━━━\u001b[0m\u001b[37m\u001b[0m \u001b[1m0s\u001b[0m 4ms/step - f1_score: 0.9266 - loss: 0.0203 - val_f1_score: 0.8450 - val_loss: 0.0648\n",
      "Epoch 49/100\n",
      "\u001b[1m45/45\u001b[0m \u001b[32m━━━━━━━━━━━━━━━━━━━━\u001b[0m\u001b[37m\u001b[0m \u001b[1m0s\u001b[0m 4ms/step - f1_score: 0.9112 - loss: 0.0214 - val_f1_score: 0.8846 - val_loss: 0.0342\n",
      "Epoch 50/100\n",
      "\u001b[1m45/45\u001b[0m \u001b[32m━━━━━━━━━━━━━━━━━━━━\u001b[0m\u001b[37m\u001b[0m \u001b[1m0s\u001b[0m 4ms/step - f1_score: 0.8941 - loss: 0.0205 - val_f1_score: 0.8727 - val_loss: 0.0436\n",
      "Epoch 51/100\n",
      "\u001b[1m45/45\u001b[0m \u001b[32m━━━━━━━━━━━━━━━━━━━━\u001b[0m\u001b[37m\u001b[0m \u001b[1m0s\u001b[0m 4ms/step - f1_score: 0.9290 - loss: 0.0153 - val_f1_score: 0.8827 - val_loss: 0.0493\n",
      "Epoch 52/100\n",
      "\u001b[1m45/45\u001b[0m \u001b[32m━━━━━━━━━━━━━━━━━━━━\u001b[0m\u001b[37m\u001b[0m \u001b[1m0s\u001b[0m 4ms/step - f1_score: 0.9224 - loss: 0.0172 - val_f1_score: 0.8449 - val_loss: 0.0461\n",
      "Epoch 53/100\n",
      "\u001b[1m45/45\u001b[0m \u001b[32m━━━━━━━━━━━━━━━━━━━━\u001b[0m\u001b[37m\u001b[0m \u001b[1m0s\u001b[0m 4ms/step - f1_score: 0.9372 - loss: 0.0143 - val_f1_score: 0.8698 - val_loss: 0.0454\n",
      "Epoch 54/100\n",
      "\u001b[1m45/45\u001b[0m \u001b[32m━━━━━━━━━━━━━━━━━━━━\u001b[0m\u001b[37m\u001b[0m \u001b[1m0s\u001b[0m 4ms/step - f1_score: 0.9172 - loss: 0.0220 - val_f1_score: 0.8690 - val_loss: 0.0365\n",
      "Epoch 55/100\n",
      "\u001b[1m45/45\u001b[0m \u001b[32m━━━━━━━━━━━━━━━━━━━━\u001b[0m\u001b[37m\u001b[0m \u001b[1m0s\u001b[0m 4ms/step - f1_score: 0.9126 - loss: 0.0179 - val_f1_score: 0.8442 - val_loss: 0.0455\n",
      "Epoch 56/100\n",
      "\u001b[1m45/45\u001b[0m \u001b[32m━━━━━━━━━━━━━━━━━━━━\u001b[0m\u001b[37m\u001b[0m \u001b[1m0s\u001b[0m 4ms/step - f1_score: 0.9199 - loss: 0.0185 - val_f1_score: 0.8626 - val_loss: 0.0426\n",
      "Epoch 57/100\n",
      "\u001b[1m45/45\u001b[0m \u001b[32m━━━━━━━━━━━━━━━━━━━━\u001b[0m\u001b[37m\u001b[0m \u001b[1m0s\u001b[0m 4ms/step - f1_score: 0.9256 - loss: 0.0140 - val_f1_score: 0.8556 - val_loss: 0.0497\n",
      "Epoch 58/100\n",
      "\u001b[1m45/45\u001b[0m \u001b[32m━━━━━━━━━━━━━━━━━━━━\u001b[0m\u001b[37m\u001b[0m \u001b[1m0s\u001b[0m 4ms/step - f1_score: 0.9162 - loss: 0.0201 - val_f1_score: 0.8175 - val_loss: 0.0494\n",
      "Epoch 59/100\n",
      "\u001b[1m45/45\u001b[0m \u001b[32m━━━━━━━━━━━━━━━━━━━━\u001b[0m\u001b[37m\u001b[0m \u001b[1m0s\u001b[0m 4ms/step - f1_score: 0.8840 - loss: 0.0290 - val_f1_score: 0.8662 - val_loss: 0.0394\n",
      "Epoch 60/100\n",
      "\u001b[1m45/45\u001b[0m \u001b[32m━━━━━━━━━━━━━━━━━━━━\u001b[0m\u001b[37m\u001b[0m \u001b[1m0s\u001b[0m 6ms/step - f1_score: 0.8966 - loss: 0.0234 - val_f1_score: 0.9076 - val_loss: 0.0331\n",
      "Epoch 61/100\n",
      "\u001b[1m45/45\u001b[0m \u001b[32m━━━━━━━━━━━━━━━━━━━━\u001b[0m\u001b[37m\u001b[0m \u001b[1m0s\u001b[0m 4ms/step - f1_score: 0.9002 - loss: 0.0215 - val_f1_score: 0.8548 - val_loss: 0.0408\n",
      "Epoch 62/100\n",
      "\u001b[1m45/45\u001b[0m \u001b[32m━━━━━━━━━━━━━━━━━━━━\u001b[0m\u001b[37m\u001b[0m \u001b[1m0s\u001b[0m 4ms/step - f1_score: 0.9338 - loss: 0.0162 - val_f1_score: 0.8484 - val_loss: 0.0389\n",
      "Epoch 63/100\n",
      "\u001b[1m45/45\u001b[0m \u001b[32m━━━━━━━━━━━━━━━━━━━━\u001b[0m\u001b[37m\u001b[0m \u001b[1m0s\u001b[0m 4ms/step - f1_score: 0.9404 - loss: 0.0132 - val_f1_score: 0.8545 - val_loss: 0.0568\n",
      "Epoch 64/100\n",
      "\u001b[1m45/45\u001b[0m \u001b[32m━━━━━━━━━━━━━━━━━━━━\u001b[0m\u001b[37m\u001b[0m \u001b[1m0s\u001b[0m 4ms/step - f1_score: 0.9239 - loss: 0.0183 - val_f1_score: 0.8485 - val_loss: 0.0494\n",
      "Epoch 65/100\n",
      "\u001b[1m45/45\u001b[0m \u001b[32m━━━━━━━━━━━━━━━━━━━━\u001b[0m\u001b[37m\u001b[0m \u001b[1m0s\u001b[0m 4ms/step - f1_score: 0.9233 - loss: 0.0138 - val_f1_score: 0.8396 - val_loss: 0.0418\n",
      "Epoch 66/100\n",
      "\u001b[1m45/45\u001b[0m \u001b[32m━━━━━━━━━━━━━━━━━━━━\u001b[0m\u001b[37m\u001b[0m \u001b[1m0s\u001b[0m 4ms/step - f1_score: 0.9510 - loss: 0.0135 - val_f1_score: 0.8629 - val_loss: 0.0486\n",
      "Epoch 67/100\n",
      "\u001b[1m45/45\u001b[0m \u001b[32m━━━━━━━━━━━━━━━━━━━━\u001b[0m\u001b[37m\u001b[0m \u001b[1m0s\u001b[0m 4ms/step - f1_score: 0.9041 - loss: 0.0240 - val_f1_score: 0.8765 - val_loss: 0.0446\n",
      "Epoch 68/100\n",
      "\u001b[1m45/45\u001b[0m \u001b[32m━━━━━━━━━━━━━━━━━━━━\u001b[0m\u001b[37m\u001b[0m \u001b[1m0s\u001b[0m 4ms/step - f1_score: 0.8924 - loss: 0.0274 - val_f1_score: 0.8595 - val_loss: 0.0521\n",
      "Epoch 69/100\n",
      "\u001b[1m45/45\u001b[0m \u001b[32m━━━━━━━━━━━━━━━━━━━━\u001b[0m\u001b[37m\u001b[0m \u001b[1m0s\u001b[0m 4ms/step - f1_score: 0.9248 - loss: 0.0143 - val_f1_score: 0.8157 - val_loss: 0.0575\n",
      "Epoch 70/100\n",
      "\u001b[1m45/45\u001b[0m \u001b[32m━━━━━━━━━━━━━━━━━━━━\u001b[0m\u001b[37m\u001b[0m \u001b[1m0s\u001b[0m 4ms/step - f1_score: 0.8261 - loss: 0.0504 - val_f1_score: 0.8728 - val_loss: 0.0412\n",
      "Epoch 71/100\n",
      "\u001b[1m45/45\u001b[0m \u001b[32m━━━━━━━━━━━━━━━━━━━━\u001b[0m\u001b[37m\u001b[0m \u001b[1m0s\u001b[0m 4ms/step - f1_score: 0.8744 - loss: 0.0265 - val_f1_score: 0.8601 - val_loss: 0.0451\n",
      "Epoch 72/100\n",
      "\u001b[1m45/45\u001b[0m \u001b[32m━━━━━━━━━━━━━━━━━━━━\u001b[0m\u001b[37m\u001b[0m \u001b[1m0s\u001b[0m 4ms/step - f1_score: 0.9209 - loss: 0.0173 - val_f1_score: 0.8803 - val_loss: 0.0394\n",
      "Epoch 73/100\n",
      "\u001b[1m45/45\u001b[0m \u001b[32m━━━━━━━━━━━━━━━━━━━━\u001b[0m\u001b[37m\u001b[0m \u001b[1m0s\u001b[0m 4ms/step - f1_score: 0.9120 - loss: 0.0187 - val_f1_score: 0.8733 - val_loss: 0.0479\n",
      "Epoch 74/100\n",
      "\u001b[1m45/45\u001b[0m \u001b[32m━━━━━━━━━━━━━━━━━━━━\u001b[0m\u001b[37m\u001b[0m \u001b[1m0s\u001b[0m 4ms/step - f1_score: 0.9182 - loss: 0.0178 - val_f1_score: 0.8862 - val_loss: 0.0481\n",
      "Epoch 75/100\n",
      "\u001b[1m45/45\u001b[0m \u001b[32m━━━━━━━━━━━━━━━━━━━━\u001b[0m\u001b[37m\u001b[0m \u001b[1m0s\u001b[0m 4ms/step - f1_score: 0.9456 - loss: 0.0127 - val_f1_score: 0.8317 - val_loss: 0.0586\n",
      "Epoch 76/100\n",
      "\u001b[1m45/45\u001b[0m \u001b[32m━━━━━━━━━━━━━━━━━━━━\u001b[0m\u001b[37m\u001b[0m \u001b[1m0s\u001b[0m 4ms/step - f1_score: 0.9146 - loss: 0.0183 - val_f1_score: 0.8541 - val_loss: 0.0480\n",
      "Epoch 77/100\n",
      "\u001b[1m45/45\u001b[0m \u001b[32m━━━━━━━━━━━━━━━━━━━━\u001b[0m\u001b[37m\u001b[0m \u001b[1m0s\u001b[0m 5ms/step - f1_score: 0.9182 - loss: 0.0216 - val_f1_score: 0.8801 - val_loss: 0.0419\n",
      "Epoch 78/100\n",
      "\u001b[1m45/45\u001b[0m \u001b[32m━━━━━━━━━━━━━━━━━━━━\u001b[0m\u001b[37m\u001b[0m \u001b[1m0s\u001b[0m 5ms/step - f1_score: 0.8845 - loss: 0.0278 - val_f1_score: 0.8424 - val_loss: 0.0535\n",
      "Epoch 79/100\n",
      "\u001b[1m45/45\u001b[0m \u001b[32m━━━━━━━━━━━━━━━━━━━━\u001b[0m\u001b[37m\u001b[0m \u001b[1m0s\u001b[0m 5ms/step - f1_score: 0.9155 - loss: 0.0199 - val_f1_score: 0.8234 - val_loss: 0.0556\n",
      "Epoch 80/100\n",
      "\u001b[1m45/45\u001b[0m \u001b[32m━━━━━━━━━━━━━━━━━━━━\u001b[0m\u001b[37m\u001b[0m \u001b[1m0s\u001b[0m 5ms/step - f1_score: 0.9145 - loss: 0.0192 - val_f1_score: 0.8799 - val_loss: 0.0445\n",
      "Epoch 80: early stopping\n",
      "Restoring model weights from the end of the best epoch: 60.\n"
     ]
    },
    {
     "data": {
      "text/plain": [
       "<keras.src.callbacks.history.History at 0x7379dc3af2d0>"
      ]
     },
     "execution_count": 26,
     "metadata": {},
     "output_type": "execute_result"
    }
   ],
   "source": [
    "model2.compile(optimizer='adam', metrics=[F1Score(average='macro', name='f1_score')], loss='categorical_focal_crossentropy')\n",
    "model2.fit(X_train, y_train, epochs=100, validation_split=0.1, callbacks=[stop_early(20)])"
   ]
  },
  {
   "cell_type": "code",
   "execution_count": 27,
   "metadata": {},
   "outputs": [
    {
     "name": "stdout",
     "output_type": "stream",
     "text": [
      "\u001b[1m17/17\u001b[0m \u001b[32m━━━━━━━━━━━━━━━━━━━━\u001b[0m\u001b[37m\u001b[0m \u001b[1m0s\u001b[0m 9ms/step\n",
      "              precision    recall  f1-score   support\n",
      "\n",
      "           0       0.78      0.85      0.82        47\n",
      "           1       0.81      0.84      0.83        45\n",
      "           2       1.00      1.00      1.00       180\n",
      "           3       0.89      0.82      0.85        39\n",
      "           4       0.81      0.74      0.77        34\n",
      "           5       0.95      0.84      0.89        25\n",
      "           6       0.86      0.89      0.88        36\n",
      "           7       0.85      0.92      0.88        25\n",
      "           8       0.84      0.84      0.84        25\n",
      "           9       0.85      0.88      0.86        32\n",
      "          10       0.62      0.60      0.61        35\n",
      "\n",
      "    accuracy                           0.88       523\n",
      "   macro avg       0.84      0.84      0.84       523\n",
      "weighted avg       0.88      0.88      0.88       523\n",
      "\n"
     ]
    }
   ],
   "source": [
    "print(classification_report(y_true=np.argmax(y_test, axis=1),\n",
    "                            y_pred=np.argmax(model2.predict(X_test), axis=1)))"
   ]
  },
  {
   "cell_type": "code",
   "execution_count": null,
   "metadata": {},
   "outputs": [],
   "source": []
  }
 ],
 "metadata": {
  "kernelspec": {
   "display_name": "push",
   "language": "python",
   "name": "python3"
  },
  "language_info": {
   "codemirror_mode": {
    "name": "ipython",
    "version": 3
   },
   "file_extension": ".py",
   "mimetype": "text/x-python",
   "name": "python",
   "nbconvert_exporter": "python",
   "pygments_lexer": "ipython3",
   "version": "3.11.11"
  }
 },
 "nbformat": 4,
 "nbformat_minor": 2
}
